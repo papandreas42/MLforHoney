{
 "cells": [
  {
   "cell_type": "markdown",
   "id": "generic-furniture",
   "metadata": {},
   "source": [
    "# Set-up"
   ]
  },
  {
   "cell_type": "code",
   "execution_count": 1,
   "id": "passive-nothing",
   "metadata": {},
   "outputs": [],
   "source": [
    "import os\n",
    "import numpy as np\n",
    "import pandas as pd\n",
    "\n",
    "import scipy\n",
    "import scipy.io\n",
    "import scipy.stats as stats\n",
    "import pywt\n",
    "\n",
    "from PIL import Image\n",
    "import matplotlib as mpl\n",
    "import matplotlib.pyplot as plt\n",
    "import statsmodels.api as sm"
   ]
  },
  {
   "cell_type": "code",
   "execution_count": 2,
   "id": "advanced-stage",
   "metadata": {},
   "outputs": [
    {
     "name": "stdout",
     "output_type": "stream",
     "text": [
      "Python 3.8.5\n",
      "<module 'scipy' from 'D:\\\\WindowsApps\\\\anaconda\\\\envs\\\\ML_for_food\\\\lib\\\\site-packages\\\\scipy\\\\__init__.py'> 1.6.2\n",
      "<module 'pywt' from 'D:\\\\WindowsApps\\\\anaconda\\\\envs\\\\ML_for_food\\\\lib\\\\site-packages\\\\pywt\\\\__init__.py'> 1.1.1\n"
     ]
    }
   ],
   "source": [
    "!python --version\n",
    "print(scipy, scipy.version.version)\n",
    "print(pywt, pywt.version.version)"
   ]
  },
  {
   "cell_type": "markdown",
   "id": "unusual-ordinance",
   "metadata": {},
   "source": [
    "# Loading the images"
   ]
  },
  {
   "cell_type": "code",
   "execution_count": 3,
   "id": "modern-journey",
   "metadata": {},
   "outputs": [],
   "source": [
    "def get_data_from_Drive(path_to_data_folder):\n",
    "  from google.colab import drive\n",
    "  drive.mount('/content/drive')\n",
    "  return get_data_from_folder(os.path.join(\"/content/drive/MyDrive\", path_to_data_folder))  \n",
    "\n",
    "def get_data_from_folder( path_to_data_folder ):\n",
    "  #Each class must recide in its own folder.\n",
    "  #Returns data as (image as nparray, class)\n",
    "  #gathering classes\n",
    "  class_titles = os.listdir(path_to_data_folder)\n",
    "  classes_list = list( ( enumerate( class_titles ) ) )\n",
    "  ordered_image_names = []\n",
    "  #placing image, class identifier (from classes_list) pairs in a list named data\n",
    "  data = []\n",
    "  number_of_images = 0\n",
    "  errors = 0 \n",
    "  for gyro_class in classes_list:\n",
    "    for image_name in os.listdir( os.path.join( path_to_data_folder, gyro_class[1] ) ):\n",
    "      number_of_images+=1\n",
    "      try:\n",
    "        im = Image.open( os.path.join( path_to_data_folder, gyro_class[1] , image_name)  )\n",
    "        color_image_nparray = np.asarray( im )\n",
    "        data.append( [color_image_nparray, gyro_class[0]] )\n",
    "        ordered_image_names.append(image_name)\n",
    "      except Exception as error :\n",
    "        errors+=1\n",
    "        print( error, image_name)\n",
    "\n",
    "  return data, class_titles, ordered_image_names, ( number_of_images, errors )"
   ]
  },
  {
   "cell_type": "markdown",
   "id": "concerned-nicholas",
   "metadata": {},
   "source": [
    "# Wavelet Decomposition and Flattening"
   ]
  },
  {
   "cell_type": "code",
   "execution_count": 4,
   "id": "turned-europe",
   "metadata": {},
   "outputs": [],
   "source": [
    "def get_coefficients_flattend( image, wavelet, levels ):\n",
    "  #image as nparray with color\n",
    "  #flattens and groups coefficients by orientation and subband\n",
    "  #returns as  ( cAn, (cHn, cVn, cDn), … (cH1, cV1, cD1)  )\n",
    "  #                                 . \n",
    "  #                                 .     \n",
    "  #                                 . \n",
    "  #for each picture\n",
    "  #n is the level of decomposition\n",
    "  \n",
    "  pil_image = Image.fromarray(image, \"RGB\")\n",
    "  pil_gray_image = pil_image.convert(\"L\")\n",
    "  gray_img = np.asarray( pil_gray_image ) \n",
    "  decomposed = pywt.wavedec2( gray_img , wavelet, level=levels)\n",
    "\n",
    "  coeff=[]\n",
    "  for subband in range(levels+1):\n",
    "    if subband==0:\n",
    "      coeff.append(np.asarray(decomposed[subband]).flatten())\n",
    "      continue\n",
    "    orientations=[]\n",
    "    for orientation in decomposed[subband]:\n",
    "      orientations.append( np.asarray(orientation).flatten() )\n",
    "    coeff.append(orientations)    \n",
    "\n",
    "  return coeff\n",
    "\n",
    "def data_to_coeffs(data, wavelet, levels):\n",
    "  #calculates wavelet coefficients and flattens them for\n",
    "  #all of the pictures\n",
    "  #returns 2D-array (coeffs, class)\n",
    "  toReturn=[]\n",
    "  for image, class_id in data:\n",
    "      instance = get_coefficients_flattend(image, wavelet, levels), class_id\n",
    "      toReturn.append(instance)\n",
    "  return toReturn"
   ]
  },
  {
   "cell_type": "markdown",
   "id": "promotional-warning",
   "metadata": {},
   "source": [
    "# Goodness of fit check with different distributions through Qqplots"
   ]
  },
  {
   "cell_type": "markdown",
   "id": "whole-front",
   "metadata": {},
   "source": [
    "This is done to see which distribution is more suitable for a given image."
   ]
  },
  {
   "cell_type": "code",
   "execution_count": 5,
   "id": "suited-charger",
   "metadata": {},
   "outputs": [],
   "source": [
    "def qqplots_of_image(image, wavelet, levels, dist):\n",
    "  #image as nparray with color\n",
    "  coeffs=get_coefficients_flattend(image, wavelet, levels)\n",
    "  alpha=0.2\n",
    "\n",
    "  fig,axes = plt.subplots(levels+1,3,figsize=(20,20), constrained_layout=True)\n",
    "  \n",
    "  #Progress\n",
    "  print(getattr(dist,\"name\"), end=\": \")\n",
    "  for m in range(levels+1):\n",
    "    if m==0:\n",
    "      sm.qqplot(coeffs[0], dist=dist, fit=True,\\\n",
    "                line=\"45\", linewidth=0.1, alpha=alpha, marker=\".\", markerfacecolor=\"black\", mew=0, ax=axes[levels-m][0])\n",
    "      axes[levels-m][0].set_title(\"Approximation\")\n",
    "      axes[levels-m][0].tick_params(direction=\"in\")\n",
    "      axes[levels-m][1].remove()\n",
    "      axes[levels-m][2].remove()\n",
    "      continue\n",
    "    for i in range(3):\n",
    "      if i==0: title=\"Level \"+str(levels-m+1)+\": Horizontal\"\n",
    "      if i==1: title=\"Level \"+str(levels-m+1)+\": Vertical\"\n",
    "      if i==2: title=\"Level \"+str(levels-m+1)+\": Diagonal\"\n",
    "\n",
    "      sm.qqplot(coeffs[m][i], dist=dist, fit=True,\\\n",
    "                line=\"45\", linewidth=0.1, alpha=alpha, marker=\".\", markerfacecolor=\"black\", mew=0, ax=axes[levels-m][i])\n",
    "      axes[levels-m][i].set_title(title)\n",
    "      axes[levels-m][i].tick_params(direction=\"in\")\n",
    "\n",
    "      #Progress\n",
    "      print(levels-m+1,i,sep=\"\", end=\" \")\n",
    "  print(\"\")\n",
    "  \n",
    "  title=\"qqplots wavelet={} levels={} dist={}\".format(wavelet, levels, getattr(dist,\"name\"))\n",
    "  fig.suptitle(title, fontsize=16)\n",
    "  fig.savefig(title)\n",
    "\n",
    "  return"
   ]
  },
  {
   "cell_type": "markdown",
   "id": "toxic-retention",
   "metadata": {},
   "source": [
    "# Fitting distributions on the wavelet coefficients  with Matlab"
   ]
  },
  {
   "cell_type": "code",
   "execution_count": 6,
   "id": "alternate-swedish",
   "metadata": {},
   "outputs": [],
   "source": [
    "import h5py\n",
    "import hdf5storage\n",
    "import numpy as np\n",
    "\n",
    "def save_coeffs_for_matlab(data, wavelet, levels, save_folder_path):\n",
    "\n",
    "    all_coeffs = data_to_coeffs(data, wavelet, levels)\n",
    "    toSave ={\"wavelet\":wavelet,\\\n",
    "             \"levels\":levels,\\\n",
    "             \"coeffs\":np.array(all_coeffs) }\n",
    "\n",
    "    scipy.io.savemat(os.path.join(save_folder_path ,\"coefficients wt=\"+wavelet+\"levels=\"+str(levels)+\".mat\"), toSave)\n",
    "    return\n",
    "\n",
    "\n",
    "def save_coeffs_for_matlab_hdf5(data, wavelet, levels, save_folder_path):\n",
    "    #needed when the number of images grows large\n",
    "    all_coeffs = data_to_coeffs(data, wavelet, levels)\n",
    "    toSave ={\"wavelet\":wavelet,\\\n",
    "             \"levels\":levels,\\\n",
    "             \"coeffs\":np.array(all_coeffs, dtype=object) }\n",
    "    \n",
    "    hdf5storage.write(toSave, '.', \"coefficients wt=\"+wavelet+\"levels=\"+str(levels)+\"_hdf5 TEST object.mat\", matlab_compatible=True)    \n",
    "    \n",
    "    return\n",
    "\n",
    "\n",
    "def load_distribution_parameters_from_matlab(distribution_parameters_path):\n",
    "    #after fitting on matlab\n",
    "    load_dict = scipy.io.loadmat(distribution_parameters_path)\n",
    "\n",
    "    return load_dict\n"
   ]
  },
  {
   "cell_type": "markdown",
   "id": "latter-friday",
   "metadata": {},
   "source": [
    "# Loading distribution parameters from Matlab and preparing them to be used as SVM features in sklearn"
   ]
  },
  {
   "cell_type": "code",
   "execution_count": 7,
   "id": "sealed-study",
   "metadata": {},
   "outputs": [],
   "source": [
    "def prepare_features_for_scikit(dist_params_select_path):\\\n",
    "  #dist_params_Select is needed to save time by not fitting \n",
    "  #distributions to all subbands\n",
    "  #dist_params_select_path: path to dist_paramsSelect      \n",
    "    load_dict= load_distribution_parameters_from_matlab(dist_params_select_path)\n",
    "    \n",
    "    dist_params = load_dict[\"dist_params\"]\n",
    "    levels      = load_dict[\"levels\"].reshape(-1)[0]\n",
    "    wavelet     = load_dict[\"wavelet\"]\n",
    "    selection   = load_dict[\"selection\"]\n",
    "#    print(selection)\n",
    "    features=[]\n",
    "    labels=[]\n",
    "    column_names=[]\n",
    "    for instance_index in range(dist_params.shape[0]):\n",
    "        features_from_instance=[]\n",
    "\n",
    "        for level_index in range(dist_params[instance_index,0].shape[1]):\n",
    "            a=level_index==0\n",
    "            b=([0, 0] in selection.tolist())\n",
    "\n",
    "            if a&b:\n",
    "                for parameter_index in range(dist_params[instance_index,0][0,0][0,:].shape[0]):\n",
    "                    features_from_instance.append(dist_params[instance_index,0][0,0][0, parameter_index])\n",
    "                    \n",
    "                    if instance_index==0:\n",
    "                        column_name = \"\".join(str(a) for a in [\"Approximation\", \" Parameter \", parameter_index+1])\n",
    "                        column_names.append(column_name)\n",
    "                continue\n",
    "\n",
    "            for orientation in range(3):\n",
    "                if [levels-level_index+1, orientation+1] in selection.tolist():\n",
    "                    for parameter_index in range(dist_params[instance_index,0][0,level_index][0,:].shape[0]):\n",
    "                        features_from_instance.append(dist_params[instance_index,0][0,level_index][orientation, parameter_index])\n",
    "                        #creating column name\n",
    "                        if instance_index==0:\n",
    "                            column_name=\"\".join(str(a) for a in [\"Level \",\\\n",
    "                                                                 levels-level_index+1,\\\n",
    "                                                                 \" Orientation \",\\\n",
    "                                                                 orientation+1,\\\n",
    "                                                                 \" Parameter \",\\\n",
    "                                                                 parameter_index+1])\n",
    "                            column_names.append(column_name)\n",
    "\n",
    "        features.append(features_from_instance)\n",
    "        labels.append(dist_params[instance_index,1].reshape(-1)[0])\n",
    "    \n",
    "    #dataframe set up\n",
    "    df = pd.DataFrame(features, columns=column_names)\n",
    "    df[\"Labels\"] = labels\n",
    "        \n",
    "    return df"
   ]
  },
  {
   "cell_type": "code",
   "execution_count": 8,
   "id": "bacterial-apollo",
   "metadata": {},
   "outputs": [],
   "source": [
    "#checking dist_params_select\n",
    "dist_paramsSelect_folder_path = \"E:\\\\Backups\\\\Work&Uni\\\\University\\\\ML for food authentication\\\\Results_fitting\\\\dist_paramsSelect\\\\New Images\\\\\"    \n",
    "dist_paramsSelect_name = \"dist_paramsSelect wt=db4 levels=3 dist=Normal.mat\"\n",
    "dist_paramsSelect_path=os.path.join(dist_paramsSelect_folder_path, dist_paramsSelect_name)\n",
    "\n",
    "df = prepare_features_for_scikit(dist_paramsSelect_path)\n",
    "#print(df.head().to_latex(float_format=\"%.2f\", columns=(\"Level 3 Orientation 1 Parameter 1\" ,\"Level 3 Orientation 1 Parameter 2\", \"Level 3 Orientation 2 Parameter 1\", \"Level 3 Orientation 2 Parameter 2\",\"Level 3 Orientation 3 Parameter 1\" ,\"Level 3 Orientation 3 Parameter 2\")))\n",
    "#df.to_csv(\"dist_paramsSelect wt=db4 levels=3 dist=Normal.csv\",index=False)"
   ]
  },
  {
   "cell_type": "markdown",
   "id": "beneficial-jerusalem",
   "metadata": {},
   "source": [
    "# Visualising features"
   ]
  },
  {
   "cell_type": "markdown",
   "id": "advised-routine",
   "metadata": {},
   "source": [
    "We can choose 2 of the parameters and plot points (P1, P2) for each image on a 2 axis graph. If we also color code these points for the different classes we may see clusters indicating class separation in this parameter space."
   ]
  },
  {
   "cell_type": "code",
   "execution_count": 9,
   "id": "tutorial-jungle",
   "metadata": {},
   "outputs": [],
   "source": [
    "def class_plot_from_distribution_parameters(distribution_parameters_path,\\\n",
    "                                            save_folder_path,\\\n",
    "                                            data_path=\"E:\\\\Backups\\\\Work&Uni\\\\University\\\\ML for food authentication\\\\Data\"):\n",
    "  #dist_params from matlab  \n",
    "    \n",
    "  _ , class_titles, _, _= get_data_from_folder(data_path)\n",
    "  load_dict = load_distribution_parameters_from_matlab(distribution_parameters_path)\n",
    "  dist_params = load_dict[\"dist_params\"]\n",
    "  levels = load_dict[\"levels\"][0][0]\n",
    "  wavelet = load_dict[\"wavelet\"][0]\n",
    "  distribution = load_dict[\"distribution\"][0]\n",
    "    \n",
    "  fig, ax = plt.subplots(figsize=(10,10))\n",
    "  title=\"Plot of distribution parameters for\\nWavelet \"+wavelet+\" | Levels: \"+str(levels)+\" | Distribution: \"+ distribution\n",
    "    \n",
    "  N=len(class_titles)\n",
    "  cmap = plt.cm.jet\n",
    "  cmaplist = [cmap(i) for i in range(cmap.N)]\n",
    "  cmap = cmap.from_list('Custom cmap', cmaplist, cmap.N)\n",
    "  bounds = np.linspace(0,N,N+1)\n",
    "  norm = mpl.colors.BoundaryNorm(bounds, cmap.N)\n",
    "    \n",
    "  for instance, label in dist_params:\n",
    "      for level in np.reshape(instance, -1):\n",
    "          for orientation in level:\n",
    "              scat = ax.scatter(orientation[0], orientation[1], c=np.reshape(label,-1)[0], s=50, alpha=1, cmap=cmap, norm=norm)\n",
    "  ax.set_title(title)\n",
    "    \n",
    "  ax.set_xlabel(\"Ditribution Parameter 1\")\n",
    "  ax.set_ylabel(\"Ditribution Parameter 2\")\n",
    "  ax.tick_params(direction=\"in\")\n",
    "  cb = plt.colorbar(scat, spacing='proportional',ticks=bounds)\n",
    "  cb.set_label(\"Classes\")\n",
    "    \n",
    "  fig.savefig(os.path.join(save_folder_path, \"wt= \"+wavelet+\" levels= \"+str(levels)+\" dist=\"+load_dict[\"distribution\"][0]+\".jpeg\"), dpi=200)\n",
    "   \n",
    "  return"
   ]
  },
  {
   "cell_type": "code",
   "execution_count": 10,
   "id": "third-combining",
   "metadata": {},
   "outputs": [
    {
     "name": "stdout",
     "output_type": "stream",
     "text": [
      "cannot identify image file 'E:\\\\Backups\\\\Work&Uni\\\\University\\\\ML for food authentication\\\\Data\\\\cichorium intubus pollen x 400\\\\Cichorium Intybus (Asteraceae)_1_bak.tif' Cichorium Intybus (Asteraceae)_1_bak.tif\n",
      "cannot identify image file 'E:\\\\Backups\\\\Work&Uni\\\\University\\\\ML for food authentication\\\\Data\\\\cichorium intubus pollen x 400\\\\Cichorium Intybus (Asteraceae)_3_bak.tif' Cichorium Intybus (Asteraceae)_3_bak.tif\n",
      "cannot identify image file 'E:\\\\Backups\\\\Work&Uni\\\\University\\\\ML for food authentication\\\\Data\\\\cichorium intubus pollen x 400\\\\Cichorium Intybus (Asteraceae)_bak.tif' Cichorium Intybus (Asteraceae)_bak.tif\n"
     ]
    },
    {
     "data": {
      "image/png": "[encoded data removed]",
      "text/plain": [
       "<Figure size 720x720 with 2 Axes>"
      ]
     },
     "metadata": {
      "needs_background": "light"
     },
     "output_type": "display_data"
    }
   ],
   "source": [
    "#single Class Plot\n",
    "dist_params_folder_path = \"E:\\\\Backups\\\\Work&Uni\\\\University\\\\ML for food authentication\\\\Results_fitting\\\\dist_paramsSelect\\\\New Images\\\\\"    \n",
    "save_folder_path = \"E:\\\\Backups\\\\Work&Uni\\\\University\\\\ML for food authentication\\\\Results_fitting\\\\Class plots\\\\\"\n",
    "dist_params_name = \"dist_paramsSelect wt=db4 levels=3 dist=tLocationScale.mat\"\n",
    "dist_params_path = os.path.join(dist_params_folder_path, dist_params_name)\n",
    "\n",
    "class_plot_from_distribution_parameters(dist_params_path, save_folder_path)"
   ]
  },
  {
   "cell_type": "markdown",
   "id": "framed-blast",
   "metadata": {},
   "source": [
    "# Class populations and data description"
   ]
  },
  {
   "cell_type": "code",
   "execution_count": 11,
   "id": "former-behalf",
   "metadata": {},
   "outputs": [
    {
     "name": "stdout",
     "output_type": "stream",
     "text": [
      "cannot identify image file 'E:\\\\Backups\\\\Work&Uni\\\\University\\\\ML for food authentication\\\\Data\\\\cichorium intubus pollen x 400\\\\Cichorium Intybus (Asteraceae)_1_bak.tif' Cichorium Intybus (Asteraceae)_1_bak.tif\n",
      "cannot identify image file 'E:\\\\Backups\\\\Work&Uni\\\\University\\\\ML for food authentication\\\\Data\\\\cichorium intubus pollen x 400\\\\Cichorium Intybus (Asteraceae)_3_bak.tif' Cichorium Intybus (Asteraceae)_3_bak.tif\n",
      "cannot identify image file 'E:\\\\Backups\\\\Work&Uni\\\\University\\\\ML for food authentication\\\\Data\\\\cichorium intubus pollen x 400\\\\Cichorium Intybus (Asteraceae)_bak.tif' Cichorium Intybus (Asteraceae)_bak.tif\n",
      "RESULTS\n",
      " (367, 3) \n",
      "==========================\n",
      "CLASS,titles\n",
      " ['castanea 2_pio synithismeni morfi', 'castanea sp', 'Castanea sp. new 22-7-21', 'cichorium intubus pollen x 400', 'citrus sp', 'eukalyptus sp', 'hedera helix', 'helianthus', 'heliotropium', 'hibiscous', 'inula spinoza', 'origanum', 'pinus', 'reiki_calluna vulgaris_020421', 'sonchus', 'thymus capitatus_020421', 'thymus sp pollen 20-01-21', 'tribulus sp'] \n",
      "===========================\n"
     ]
    }
   ],
   "source": [
    "#load the data\n",
    "\n",
    "data , class_titles, ordered_image_names, results= get_data_from_folder(\"E:\\\\Backups\\\\Work&Uni\\\\University\\\\ML for food authentication\\\\Data\\\\\")\n",
    "print(\"RESULTS\\n\",results,\"\\n==========================\")\n",
    "print(\"CLASS,titles\\n\",class_titles,\"\\n===========================\")"
   ]
  },
  {
   "cell_type": "code",
   "execution_count": 12,
   "id": "swedish-gallery",
   "metadata": {},
   "outputs": [
    {
     "data": {
      "text/html": [
       "<div>\n",
       "<style scoped>\n",
       "    .dataframe tbody tr th:only-of-type {\n",
       "        vertical-align: middle;\n",
       "    }\n",
       "\n",
       "    .dataframe tbody tr th {\n",
       "        vertical-align: top;\n",
       "    }\n",
       "\n",
       "    .dataframe thead th {\n",
       "        text-align: right;\n",
       "    }\n",
       "</style>\n",
       "<table border=\"1\" class=\"dataframe\">\n",
       "  <thead>\n",
       "    <tr style=\"text-align: right;\">\n",
       "      <th></th>\n",
       "      <th>ClassID</th>\n",
       "      <th>NumberofInstances</th>\n",
       "      <th>ClassName</th>\n",
       "    </tr>\n",
       "  </thead>\n",
       "  <tbody>\n",
       "    <tr>\n",
       "      <th>0</th>\n",
       "      <td>2</td>\n",
       "      <td>109</td>\n",
       "      <td>Castanea sp. new 22-7-21</td>\n",
       "    </tr>\n",
       "    <tr>\n",
       "      <th>1</th>\n",
       "      <td>15</td>\n",
       "      <td>101</td>\n",
       "      <td>thymus capitatus_020421</td>\n",
       "    </tr>\n",
       "    <tr>\n",
       "      <th>2</th>\n",
       "      <td>13</td>\n",
       "      <td>101</td>\n",
       "      <td>reiki_calluna vulgaris_020421</td>\n",
       "    </tr>\n",
       "    <tr>\n",
       "      <th>3</th>\n",
       "      <td>16</td>\n",
       "      <td>26</td>\n",
       "      <td>thymus sp pollen 20-01-21</td>\n",
       "    </tr>\n",
       "    <tr>\n",
       "      <th>4</th>\n",
       "      <td>10</td>\n",
       "      <td>8</td>\n",
       "      <td>inula spinoza</td>\n",
       "    </tr>\n",
       "    <tr>\n",
       "      <th>5</th>\n",
       "      <td>1</td>\n",
       "      <td>5</td>\n",
       "      <td>castanea sp</td>\n",
       "    </tr>\n",
       "    <tr>\n",
       "      <th>6</th>\n",
       "      <td>0</td>\n",
       "      <td>2</td>\n",
       "      <td>castanea 2_pio synithismeni morfi</td>\n",
       "    </tr>\n",
       "    <tr>\n",
       "      <th>7</th>\n",
       "      <td>7</td>\n",
       "      <td>2</td>\n",
       "      <td>helianthus</td>\n",
       "    </tr>\n",
       "    <tr>\n",
       "      <th>8</th>\n",
       "      <td>11</td>\n",
       "      <td>2</td>\n",
       "      <td>origanum</td>\n",
       "    </tr>\n",
       "    <tr>\n",
       "      <th>9</th>\n",
       "      <td>12</td>\n",
       "      <td>1</td>\n",
       "      <td>pinus</td>\n",
       "    </tr>\n",
       "    <tr>\n",
       "      <th>10</th>\n",
       "      <td>14</td>\n",
       "      <td>1</td>\n",
       "      <td>sonchus</td>\n",
       "    </tr>\n",
       "    <tr>\n",
       "      <th>11</th>\n",
       "      <td>9</td>\n",
       "      <td>1</td>\n",
       "      <td>hibiscous</td>\n",
       "    </tr>\n",
       "    <tr>\n",
       "      <th>12</th>\n",
       "      <td>8</td>\n",
       "      <td>1</td>\n",
       "      <td>heliotropium</td>\n",
       "    </tr>\n",
       "    <tr>\n",
       "      <th>13</th>\n",
       "      <td>6</td>\n",
       "      <td>1</td>\n",
       "      <td>hedera helix</td>\n",
       "    </tr>\n",
       "    <tr>\n",
       "      <th>14</th>\n",
       "      <td>5</td>\n",
       "      <td>1</td>\n",
       "      <td>eukalyptus sp</td>\n",
       "    </tr>\n",
       "    <tr>\n",
       "      <th>15</th>\n",
       "      <td>4</td>\n",
       "      <td>1</td>\n",
       "      <td>citrus sp</td>\n",
       "    </tr>\n",
       "    <tr>\n",
       "      <th>16</th>\n",
       "      <td>17</td>\n",
       "      <td>1</td>\n",
       "      <td>tribulus sp</td>\n",
       "    </tr>\n",
       "  </tbody>\n",
       "</table>\n",
       "</div>"
      ],
      "text/plain": [
       "    ClassID  NumberofInstances                          ClassName\n",
       "0         2                109           Castanea sp. new 22-7-21\n",
       "1        15                101            thymus capitatus_020421\n",
       "2        13                101      reiki_calluna vulgaris_020421\n",
       "3        16                 26          thymus sp pollen 20-01-21\n",
       "4        10                  8                      inula spinoza\n",
       "5         1                  5                        castanea sp\n",
       "6         0                  2  castanea 2_pio synithismeni morfi\n",
       "7         7                  2                         helianthus\n",
       "8        11                  2                           origanum\n",
       "9        12                  1                              pinus\n",
       "10       14                  1                            sonchus\n",
       "11        9                  1                          hibiscous\n",
       "12        8                  1                       heliotropium\n",
       "13        6                  1                       hedera helix\n",
       "14        5                  1                      eukalyptus sp\n",
       "15        4                  1                          citrus sp\n",
       "16       17                  1                        tribulus sp"
      ]
     },
     "execution_count": 12,
     "metadata": {},
     "output_type": "execute_result"
    }
   ],
   "source": [
    "#class populations\n",
    "class_list = list( ( enumerate( class_titles ) ) )\n",
    "\n",
    "dist_paramsSelect_folder_path = \"E:\\\\Backups\\\\Work&Uni\\\\University\\\\ML for food authentication\\\\Results_fitting\\\\dist_paramsSelect\\\\New Images v2 (3 classes of 100)\\\\\"    \n",
    "dist_paramsSelect_name = \"dist_paramsSelect wt=db4 levels=3 dist=Normal.mat\"\n",
    "dist_paramsSelect_path=os.path.join(dist_paramsSelect_folder_path, dist_paramsSelect_name)\n",
    "df = prepare_features_for_scikit(dist_paramsSelect_path)\n",
    "\n",
    "class_population=df['Labels'].value_counts(sort=True)\n",
    "\n",
    "class_dict = dict(class_list)\n",
    "df4 = pd.DataFrame(class_population)\n",
    "\n",
    "df4 = df4.reset_index()\n",
    "df4 = df4.rename(columns={\"index\":\"ClassID\", \"Labels\":\"NumberofInstances\"})\n",
    "# class_dict[df4[\"Class ID\"]]\n",
    "\n",
    "df4[\"ClassName\"] = [class_dict.get(key) for key in df4[\"ClassID\"]]\n",
    "#df4.to_csv(\"data description.csv\",index=False)\n",
    "df4"
   ]
  },
  {
   "cell_type": "code",
   "execution_count": null,
   "id": "comfortable-approval",
   "metadata": {},
   "outputs": [],
   "source": []
  },
  {
   "cell_type": "markdown",
   "id": "racial-turkish",
   "metadata": {},
   "source": [
    "# Choosing and Balancing Classes"
   ]
  },
  {
   "cell_type": "markdown",
   "id": "speaking-cancer",
   "metadata": {},
   "source": [
    "Although SMVs aren't too sensitive to class population imbalances we balance the population by randomly selecting a number of images from the most populated classes to keep as many as the least populated class."
   ]
  },
  {
   "cell_type": "code",
   "execution_count": 13,
   "id": "hungry-miller",
   "metadata": {},
   "outputs": [],
   "source": [
    "#keeps the n most populated classes\n",
    "def get_larger_classes(dist_paramsSelect_folder, dist_paramsSelect_name, n):\n",
    "    #ready dataframe\n",
    "    dist_paramsSelect_folder_path = dist_paramsSelect_folder\n",
    "    dist_paramsSelect_path=os.path.join(dist_paramsSelect_folder_path, dist_paramsSelect_name)\n",
    "\n",
    "    df = prepare_features_for_scikit(dist_paramsSelect_path)\n",
    "    class_population=df['Labels'].value_counts(sort=True)\n",
    "\n",
    "    #keeping n most populated classes\n",
    "    class_population=df['Labels'].value_counts(sort=True)\n",
    "    n_most_populated_classes= pd.DataFrame()\n",
    "    \n",
    "    for i in range(n):\n",
    "        n_most_populated_classes = n_most_populated_classes.append(df[df[\"Labels\"]==class_population.index[i]])\n",
    "        \n",
    "    return n_most_populated_classes, df\n",
    "\n",
    "#randomly chooses images of the larger class to balance out dataset\n",
    "def balance_classes(n_most_populated_classes):\n",
    "  class_population = n_most_populated_classes['Labels'].value_counts(sort=True)\n",
    "  smallest_class_population = class_population.iloc[class_population.shape[0]-1]\n",
    "    \n",
    "  balanced_classes = pd.DataFrame()\n",
    "    \n",
    "  for i in range(class_population.shape[0]):\n",
    "      to_append = n_most_populated_classes[n_most_populated_classes[\"Labels\"]==class_population.index[i]].sample(smallest_class_population)\n",
    "      balanced_classes = balanced_classes.append(to_append, ignore_index=True)\n",
    "\n",
    "  return balanced_classes"
   ]
  },
  {
   "cell_type": "markdown",
   "id": "ranking-february",
   "metadata": {},
   "source": [
    "# Balancing classes and cross validating SVM"
   ]
  },
  {
   "cell_type": "code",
   "execution_count": 14,
   "id": "wooden-barrel",
   "metadata": {},
   "outputs": [
    {
     "name": "stdout",
     "output_type": "stream",
     "text": [
      "CV results\n"
     ]
    },
    {
     "data": {
      "text/html": [
       "<div>\n",
       "<style scoped>\n",
       "    .dataframe tbody tr th:only-of-type {\n",
       "        vertical-align: middle;\n",
       "    }\n",
       "\n",
       "    .dataframe tbody tr th {\n",
       "        vertical-align: top;\n",
       "    }\n",
       "\n",
       "    .dataframe thead th {\n",
       "        text-align: right;\n",
       "    }\n",
       "</style>\n",
       "<table border=\"1\" class=\"dataframe\">\n",
       "  <thead>\n",
       "    <tr style=\"text-align: right;\">\n",
       "      <th></th>\n",
       "      <th>Mean Accuracy</th>\n",
       "      <th>Standard Deviation</th>\n",
       "    </tr>\n",
       "  </thead>\n",
       "  <tbody>\n",
       "    <tr>\n",
       "      <th>0</th>\n",
       "      <td>0.954375</td>\n",
       "      <td>0.057847</td>\n",
       "    </tr>\n",
       "  </tbody>\n",
       "</table>\n",
       "</div>"
      ],
      "text/plain": [
       "   Mean Accuracy  Standard Deviation\n",
       "0       0.954375            0.057847"
      ]
     },
     "execution_count": 14,
     "metadata": {},
     "output_type": "execute_result"
    }
   ],
   "source": [
    "from sklearn import *\n",
    "from sklearn.model_selection import train_test_split\n",
    "from sklearn import svm, datasets\n",
    "from sklearn.pipeline import Pipeline\n",
    "from sklearn.preprocessing import StandardScaler\n",
    "from sklearn.model_selection import train_test_split\n",
    "from sklearn.model_selection import cross_val_score\n",
    "\n",
    "#cross-validate n most populated classes\n",
    "\n",
    "number_of_classes = 3\n",
    "levels = 3\n",
    "dist = \"Normal\"\n",
    "cv_split = 20\n",
    "wavelet = \"db4\"\n",
    "\n",
    "larger_classes, df = get_larger_classes(\"E:\\\\Backups\\\\Work&Uni\\\\University\\\\ML for food authentication\\\\Results_fitting\\\\dist_paramsSelect\\\\New Images v2 (3 classes of 100)\\\\\" ,\\\n",
    "                                        \"dist_paramsSelect wt=db4 levels=3 dist=Normal.mat\",\\\n",
    "                                        3)\n",
    "\n",
    "A=balance_classes(larger_classes).to_numpy()\n",
    "x=A[:,:-1]\n",
    "y=A[:,-1]\n",
    "\n",
    "model=pipeline.Pipeline((\\\n",
    "                         (\"scaler\",StandardScaler() ),\\\n",
    "                         (\"svm_clf\", svm.SVC(kernel='rbf', gamma=0.01, C=1, decision_function_shape='ovo'))\\\n",
    "                        ))\n",
    "\n",
    "scores = cross_val_score(model, x, y, cv=cv_split)\n",
    "result = pd.DataFrame({\"Mean Accuracy\":[scores.mean()], \"Standard Deviation\":[scores.std()]})\n",
    "\n",
    "print(\"CV results\")\n",
    "result"
   ]
  },
  {
   "cell_type": "markdown",
   "id": "starting-might",
   "metadata": {},
   "source": [
    "# Repeating many times to validate results"
   ]
  },
  {
   "cell_type": "code",
   "execution_count": 15,
   "id": "upset-panama",
   "metadata": {},
   "outputs": [],
   "source": [
    "#cross-validate n most populated classes\n",
    "def balance_and_cv(n_most_populated_classes, cv_split):\n",
    "    A=balance_classes(n_most_populated_classes).to_numpy()\n",
    "    x=A[:,:-1]\n",
    "    y=A[:,-1]\n",
    "\n",
    "    model=pipeline.Pipeline((\\\n",
    "                             (\"scaler\",StandardScaler() ),\\\n",
    "                             (\"svm_clf\", svm.SVC(kernel='rbf', gamma=0.01, C=1, decision_function_shape='ovo'))\\\n",
    "                            ))\n",
    "\n",
    "    scores = cross_val_score(model, x, y, cv=cv_split, n_jobs=-1)\n",
    "    return scores"
   ]
  },
  {
   "cell_type": "code",
   "execution_count": 16,
   "id": "descending-antique",
   "metadata": {},
   "outputs": [
    {
     "name": "stdout",
     "output_type": "stream",
     "text": [
      "       Mean Accuracy  Standard Deviation\n",
      "count     100.000000          100.000000\n",
      "mean        0.954261            0.030260\n",
      "std         0.005382            0.009557\n",
      "min         0.943595            0.009342\n",
      "25%         0.950458            0.023754\n",
      "50%         0.953889            0.029724\n",
      "75%         0.957141            0.037057\n",
      "max         0.970131            0.056007\n"
     ]
    },
    {
     "data": {
      "text/html": [
       "<div>\n",
       "<style scoped>\n",
       "    .dataframe tbody tr th:only-of-type {\n",
       "        vertical-align: middle;\n",
       "    }\n",
       "\n",
       "    .dataframe tbody tr th {\n",
       "        vertical-align: top;\n",
       "    }\n",
       "\n",
       "    .dataframe thead th {\n",
       "        text-align: right;\n",
       "    }\n",
       "</style>\n",
       "<table border=\"1\" class=\"dataframe\">\n",
       "  <thead>\n",
       "    <tr style=\"text-align: right;\">\n",
       "      <th></th>\n",
       "      <th>Mean Accuracy</th>\n",
       "      <th>Standard Deviation</th>\n",
       "    </tr>\n",
       "  </thead>\n",
       "  <tbody>\n",
       "    <tr>\n",
       "      <th>0</th>\n",
       "      <td>0.953725</td>\n",
       "      <td>0.027491</td>\n",
       "    </tr>\n",
       "    <tr>\n",
       "      <th>1</th>\n",
       "      <td>0.947059</td>\n",
       "      <td>0.037784</td>\n",
       "    </tr>\n",
       "    <tr>\n",
       "      <th>2</th>\n",
       "      <td>0.957255</td>\n",
       "      <td>0.041509</td>\n",
       "    </tr>\n",
       "    <tr>\n",
       "      <th>3</th>\n",
       "      <td>0.960458</td>\n",
       "      <td>0.019546</td>\n",
       "    </tr>\n",
       "    <tr>\n",
       "      <th>4</th>\n",
       "      <td>0.943856</td>\n",
       "      <td>0.036876</td>\n",
       "    </tr>\n",
       "    <tr>\n",
       "      <th>...</th>\n",
       "      <td>...</td>\n",
       "      <td>...</td>\n",
       "    </tr>\n",
       "    <tr>\n",
       "      <th>95</th>\n",
       "      <td>0.960261</td>\n",
       "      <td>0.046246</td>\n",
       "    </tr>\n",
       "    <tr>\n",
       "      <th>96</th>\n",
       "      <td>0.950523</td>\n",
       "      <td>0.018745</td>\n",
       "    </tr>\n",
       "    <tr>\n",
       "      <th>97</th>\n",
       "      <td>0.953856</td>\n",
       "      <td>0.018351</td>\n",
       "    </tr>\n",
       "    <tr>\n",
       "      <th>98</th>\n",
       "      <td>0.953725</td>\n",
       "      <td>0.018862</td>\n",
       "    </tr>\n",
       "    <tr>\n",
       "      <th>99</th>\n",
       "      <td>0.947386</td>\n",
       "      <td>0.036964</td>\n",
       "    </tr>\n",
       "  </tbody>\n",
       "</table>\n",
       "<p>100 rows × 2 columns</p>\n",
       "</div>"
      ],
      "text/plain": [
       "    Mean Accuracy  Standard Deviation\n",
       "0        0.953725            0.027491\n",
       "1        0.947059            0.037784\n",
       "2        0.957255            0.041509\n",
       "3        0.960458            0.019546\n",
       "4        0.943856            0.036876\n",
       "..            ...                 ...\n",
       "95       0.960261            0.046246\n",
       "96       0.950523            0.018745\n",
       "97       0.953856            0.018351\n",
       "98       0.953725            0.018862\n",
       "99       0.947386            0.036964\n",
       "\n",
       "[100 rows x 2 columns]"
      ]
     },
     "execution_count": 16,
     "metadata": {},
     "output_type": "execute_result"
    }
   ],
   "source": [
    "#3 balanced classes wt=db4 levels=3 dist=Normal\n",
    "results=pd.DataFrame(columns=[\"Mean Accuracy\", \"Standard Deviation\"])\n",
    "larger_classes, df = get_larger_classes(\"E:\\\\Backups\\\\Work&Uni\\\\University\\\\ML for food authentication\\\\Results_fitting\\\\dist_paramsSelect\\\\New Images v2 (3 classes of 100)\\\\\" ,\\\n",
    "                                        \"dist_paramsSelect wt=db4 levels=3 dist=Normal.mat\",\\\n",
    "                                        3)\n",
    "for i in range(100):\n",
    "    scores=balance_and_cv(larger_classes, cv_split=6)\n",
    "    results = results.append(pd.DataFrame({\"Mean Accuracy\":[scores.mean()], \"Standard Deviation\":[scores.std()]}), ignore_index=True)\n",
    "    \n",
    "print(results.describe())\n",
    "results\n"
   ]
  },
  {
   "cell_type": "markdown",
   "id": "requested-retirement",
   "metadata": {},
   "source": [
    "# Histogram of the mean accuracy values produced by reapeating the cross validation step many times"
   ]
  },
  {
   "cell_type": "code",
   "execution_count": 21,
   "id": "illegal-check",
   "metadata": {},
   "outputs": [],
   "source": [
    "#Helper Function\n",
    "def train(path_to_distParamsSelect_folder, title_of_mat_file , options, bins=15):\n",
    "\n",
    "    \n",
    "    larger_classes, df = get_larger_classes(path_to_distParamsSelect_folder, \\\n",
    "                                            title_of_mat_file, \\\n",
    "                                            options[\"Number of Classes\"])\n",
    "\n",
    "    instances_per_class = df['Labels'].value_counts(sort=True).iloc[options[\"Number of Classes\"]-1]\n",
    "\n",
    "    options[\"Instances per class\"] = instances_per_class\n",
    "    \n",
    "    results=pd.DataFrame(columns=[\"Mean Accuracy\", \"Standard Deviation\"])\n",
    "\n",
    "    for i in range(options[\"Number of runs\"]):\n",
    "        scores=balance_and_cv(larger_classes, options[\"CV split\"])\n",
    "        results = results.append(pd.DataFrame({\"Mean Accuracy of CV\":[scores.mean()], \"Standard Deviation of CV\":[scores.std()]}), ignore_index=True)\n",
    "\n",
    "    options[\"Mean Accuracy\"] = results.describe()[\"Mean Accuracy of CV\"].iloc[1]\n",
    "    options[\"Standard Deviation of Mean Accuracy\"] = results.describe()[\"Standard Deviation of CV\"].iloc[1]\n",
    "    all_results = pd.DataFrame(columns=[\"Number of Classes\", \"Instances per class\", \"Distribution\", \"Wavelet\", \"Levels\", \"Number of runs\", \"CV split\" ,\"Mean Accuracy\", \"Standard Deviation of Mean Accuracy\"])\n",
    "    all_results = all_results.append(options, ignore_index=True)\n",
    "    \n",
    "    #saving hist\n",
    "    \n",
    "#    ax = results[\"Mean Accuracy of CV\"].hist( bins=bins )\n",
    "#    fig = ax.get_figure()\n",
    "#    ax.set_title(\"Mean Accuracy of CV\")\n",
    "#    figtitle=\"\"\n",
    "#    for key in options:\n",
    "#        figtitle+=key+\" \"+str(options[key])+\" \"\n",
    "#    fig.savefig(figtitle+'.jpg')\n",
    "    \n",
    "    return all_results\n",
    "\n"
   ]
  },
  {
   "cell_type": "code",
   "execution_count": 18,
   "id": "acknowledged-terrorist",
   "metadata": {},
   "outputs": [],
   "source": [
    "#To keep all results\n",
    "all_results = pd.DataFrame(columns=[\"Number of Classes\", \"Instances per class\", \"Distribution\", \"Wavelet\", \"Levels\", \"Number of runs\", \"CV split\" ,\"Mean Accuracy\", \"Standard Deviation of Mean Accuracy\"])"
   ]
  },
  {
   "cell_type": "code",
   "execution_count": 84,
   "id": "corporate-optics",
   "metadata": {},
   "outputs": [
    {
     "data": {
      "image/png": "[encoded data removed]",
      "text/plain": [
       "<Figure size 432x288 with 1 Axes>"
      ]
     },
     "metadata": {
      "needs_background": "light"
     },
     "output_type": "display_data"
    }
   ],
   "source": [
    "#4 most populated classes wt=db4 levels=3 Normal\n",
    "number_of_classes = 3\n",
    "levels = 3\n",
    "dist = \"Normal\"\n",
    "number_of_runs = 20\n",
    "cv_split = 20\n",
    "wavelet = \"db4\"\n",
    "\n",
    "options = {\"Number of Classes\":number_of_classes,\\\n",
    "           \"Levels\":levels,\\\n",
    "           \"Distribution\":dist,\\\n",
    "           \"Number of runs\":number_of_runs,\\\n",
    "           \"CV split\":cv_split,\\\n",
    "           \"Wavelet\":wavelet}\n",
    "\n",
    "all_results = all_results.append( train(\"E:\\\\Backups\\\\Work&Uni\\\\University\\\\ML for food authentication\\\\Results_fitting\\\\dist_paramsSelect\\\\New Images v2 (3 classes of 100)\\\\\" ,\\\n",
    "                                        \"dist_paramsSelect wt=db4 levels=3 dist=\"+options[\"Distribution\"]+\".mat\",\\\n",
    "                                        options),\\\n",
    "                                  ignore_index=True)"
   ]
  },
  {
   "cell_type": "markdown",
   "id": "described-express",
   "metadata": {},
   "source": [
    "# Evaluating stability as the number of classes increases"
   ]
  },
  {
   "cell_type": "code",
   "execution_count": 19,
   "id": "invisible-integrity",
   "metadata": {},
   "outputs": [],
   "source": [
    "all_results = pd.DataFrame(columns=[\"Number of Classes\", \"Instances per class\", \"Distribution\", \"Wavelet\", \"Levels\", \"Number of runs\", \"CV split\" ,\"Mean Accuracy\", \"Standard Deviation of Mean Accuracy\"])\n"
   ]
  },
  {
   "cell_type": "code",
   "execution_count": 20,
   "id": "massive-reaction",
   "metadata": {},
   "outputs": [],
   "source": [
    "options_list = [[2,3,\"Normal\",2000,20,\"db4\"],\n",
    "                [2,3,\"tLocationScale\",2000,20,\"db4\"],\n",
    "                [2,3,\"Stable\",2000,20,\"db4\"],\n",
    "                \n",
    "                [3,3,\"Normal\",2000,20,\"db4\"],\n",
    "                [3,3,\"tLocationScale\",2000,20,\"db4\"],\n",
    "                [3,3,\"Stable\",2000,20,\"db4\"],\n",
    "                \n",
    "                [4,3,\"Normal\",2000,4,\"db4\"],\n",
    "                [4,3,\"tLocationScale\",2000,4,\"db4\"],\n",
    "                [4,3,\"Stable\",2000,4,\"db4\"],\n",
    "                \n",
    "                [5,3,\"Normal\",2000,2,\"db4\"],\n",
    "                [5,3,\"tLocationScale\",2000,2,\"db4\"],\n",
    "                [5,3,\"Stable\",2000,2,\"db4\"],\n",
    "                \n",
    "                [6,3,\"Normal\",2000,2,\"db4\"],\n",
    "                [6,3,\"tLocationScale\",2000,2,\"db4\"],\n",
    "                [6,3,\"Stable\",2000,2,\"db4\"],\n",
    "                \n",
    "               ]"
   ]
  },
  {
   "cell_type": "code",
   "execution_count": 27,
   "id": "overall-death",
   "metadata": {},
   "outputs": [],
   "source": [
    "\n",
    "for a in options_list:\n",
    "    options = {\"Number of Classes\":a[0],\\\n",
    "               \"Levels\":a[1],\\\n",
    "               \"Distribution\":a[2],\\\n",
    "               \"Number of runs\":a[3],\\\n",
    "               \"CV split\":a[4],\\\n",
    "               \"Wavelet\":a[5]}\n",
    "    \n",
    "    all_results = all_results.append( train(\"E:\\\\Backups\\\\Work&Uni\\\\University\\\\ML for food authentication\\\\Results_fitting\\\\dist_paramsSelect\\\\New Images v2 (3 classes of 100)\\\\\" ,\\\n",
    "                                        \"dist_paramsSelect wt=db4 levels=3 dist=\"+options[\"Distribution\"]+\".mat\",\\\n",
    "                                        options),\\\n",
    "                                  ignore_index=True)\n",
    "    "
   ]
  },
  {
   "cell_type": "code",
   "execution_count": 28,
   "id": "ultimate-obligation",
   "metadata": {},
   "outputs": [],
   "source": [
    "all_results.to_csv(\"increasing classes.csv\")"
   ]
  },
  {
   "cell_type": "code",
   "execution_count": 31,
   "id": "offensive-washer",
   "metadata": {},
   "outputs": [
    {
     "name": "stdout",
     "output_type": "stream",
     "text": [
      "\\begin{tabular}{lllllrr}\n",
      "\\toprule\n",
      "{} & Number of Classes & Instances per class &    Distribution & CV split &  Mean Accuracy &  Standard Deviation of Mean Accuracy \\\\\n",
      "\\midrule\n",
      "0  &                 2 &                 101 &          Normal &       20 &           1.00 &                                 0.02 \\\\\n",
      "1  &                 2 &                 101 &  tLocationScale &       20 &           1.00 &                                 0.02 \\\\\n",
      "2  &                 2 &                 101 &          Stable &       20 &           0.99 &                                 0.02 \\\\\n",
      "3  &                 3 &                 101 &          Normal &       20 &           0.96 &                                 0.05 \\\\\n",
      "4  &                 3 &                 101 &  tLocationScale &       20 &           0.99 &                                 0.03 \\\\\n",
      "5  &                 3 &                 101 &          Stable &       20 &           0.99 &                                 0.02 \\\\\n",
      "6  &                 4 &                  26 &          Normal &        4 &           0.76 &                                 0.07 \\\\\n",
      "7  &                 4 &                  26 &  tLocationScale &        4 &           0.87 &                                 0.05 \\\\\n",
      "8  &                 4 &                  26 &          Stable &        4 &           0.86 &                                 0.04 \\\\\n",
      "9  &                 5 &                   8 &          Normal &        2 &           0.63 &                                 0.05 \\\\\n",
      "10 &                 5 &                   8 &  tLocationScale &        2 &           0.79 &                                 0.05 \\\\\n",
      "11 &                 5 &                   8 &          Stable &        2 &           0.79 &                                 0.04 \\\\\n",
      "12 &                 6 &                   5 &          Normal &        2 &           0.38 &                                 0.12 \\\\\n",
      "13 &                 6 &                   5 &  tLocationScale &        2 &           0.55 &                                 0.05 \\\\\n",
      "14 &                 6 &                   5 &          Stable &        2 &           0.50 &                                 0.07 \\\\\n",
      "15 &                 2 &                 101 &          Normal &       20 &           1.00 &                                 0.02 \\\\\n",
      "16 &                 2 &                 101 &  tLocationScale &       20 &           1.00 &                                 0.02 \\\\\n",
      "17 &                 2 &                 101 &          Stable &       20 &           1.00 &                                 0.02 \\\\\n",
      "18 &                 3 &                 101 &          Normal &       20 &           0.96 &                                 0.05 \\\\\n",
      "19 &                 3 &                 101 &  tLocationScale &       20 &           0.99 &                                 0.02 \\\\\n",
      "20 &                 3 &                 101 &          Stable &       20 &           0.99 &                                 0.02 \\\\\n",
      "21 &                 4 &                  26 &          Normal &        4 &           0.75 &                                 0.05 \\\\\n",
      "22 &                 4 &                  26 &  tLocationScale &        4 &           0.86 &                                 0.05 \\\\\n",
      "23 &                 4 &                  26 &          Stable &        4 &           0.86 &                                 0.05 \\\\\n",
      "24 &                 5 &                   8 &          Normal &        2 &           0.61 &                                 0.04 \\\\\n",
      "25 &                 5 &                   8 &  tLocationScale &        2 &           0.80 &                                 0.03 \\\\\n",
      "26 &                 5 &                   8 &          Stable &        2 &           0.78 &                                 0.04 \\\\\n",
      "27 &                 6 &                   5 &          Normal &        2 &           0.37 &                                 0.10 \\\\\n",
      "28 &                 6 &                   5 &  tLocationScale &        2 &           0.58 &                                 0.03 \\\\\n",
      "29 &                 6 &                   5 &          Stable &        2 &           0.50 &                                 0.07 \\\\\n",
      "\\bottomrule\n",
      "\\end{tabular}\n",
      "\n"
     ]
    }
   ],
   "source": [
    "print(all_results.to_latex(float_format=\"%.2f\", columns=(\"Number of Classes\",\"Instances per class\",\"Distribution\",\"CV split\",\"Mean Accuracy\",\"Standard Deviation of Mean Accuracy\")))"
   ]
  },
  {
   "cell_type": "code",
   "execution_count": null,
   "id": "resistant-belgium",
   "metadata": {},
   "outputs": [],
   "source": [
    "all_results"
   ]
  },
  {
   "cell_type": "markdown",
   "id": "understanding-count",
   "metadata": {},
   "source": [
    "# Plot of accuracy vs the number of classes"
   ]
  },
  {
   "cell_type": "code",
   "execution_count": null,
   "id": "floppy-static",
   "metadata": {},
   "outputs": [],
   "source": [
    "all_results[\"Distribution\"==\"Normal\"].plot(x=\"Number of Classes\", y=\"Mean Accuracy\")\n"
   ]
  },
  {
   "cell_type": "code",
   "execution_count": null,
   "id": "wrapped-partner",
   "metadata": {},
   "outputs": [],
   "source": []
  }
 ],
 "metadata": {
  "kernelspec": {
   "display_name": "Python 3",
   "language": "python",
   "name": "python3"
  },
  "language_info": {
   "codemirror_mode": {
    "name": "ipython",
    "version": 3
   },
   "file_extension": ".py",
   "mimetype": "text/x-python",
   "name": "python",
   "nbconvert_exporter": "python",
   "pygments_lexer": "ipython3",
   "version": "3.8.5"
  }
 },
 "nbformat": 4,
 "nbformat_minor": 5
}
