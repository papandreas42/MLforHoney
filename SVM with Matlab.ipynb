{
 "cells": [
  {
   "cell_type": "markdown",
   "id": "unknown-inclusion",
   "metadata": {},
   "source": [
    "# Set-up"
   ]
  },
  {
   "cell_type": "code",
   "execution_count": 20,
   "id": "cordless-protein",
   "metadata": {},
   "outputs": [],
   "source": [
    "import os\n",
    "import numpy as np\n",
    "import pandas as pd\n",
    "\n",
    "import scipy\n",
    "import scipy.io\n",
    "import scipy.stats as stats\n",
    "import pywt\n",
    "\n",
    "from PIL import Image\n",
    "import matplotlib as mpl\n",
    "import matplotlib.pyplot as plt\n",
    "import statsmodels.api as sm"
   ]
  },
  {
   "cell_type": "code",
   "execution_count": 21,
   "id": "aerial-length",
   "metadata": {},
   "outputs": [
    {
     "name": "stdout",
     "output_type": "stream",
     "text": [
      "Python 3.8.5\n",
      "<module 'scipy' from 'C:\\\\Users\\\\antre\\\\.conda\\\\envs\\\\ML for food\\\\lib\\\\site-packages\\\\scipy\\\\__init__.py'> 1.6.0\n",
      "<module 'pywt' from 'C:\\\\Users\\\\antre\\\\.conda\\\\envs\\\\ML for food\\\\lib\\\\site-packages\\\\pywt\\\\__init__.py'> 1.1.1\n"
     ]
    }
   ],
   "source": [
    "!python --version\n",
    "print(scipy, scipy.version.version)\n",
    "print(pywt, pywt.version.version)"
   ]
  },
  {
   "cell_type": "markdown",
   "id": "accepted-immune",
   "metadata": {},
   "source": [
    "# Loading the images"
   ]
  },
  {
   "cell_type": "code",
   "execution_count": 22,
   "id": "strong-kazakhstan",
   "metadata": {},
   "outputs": [],
   "source": [
    "def get_data_from_Drive(path_to_data_folder):\n",
    "  from google.colab import drive\n",
    "  drive.mount('/content/drive')\n",
    "  return get_data_from_folder(os.path.join(\"/content/drive/MyDrive\", path_to_data_folder))  \n",
    "\n",
    "def get_data_from_folder( path_to_data_folder ):\n",
    "  #Each class must recide in its own folder.\n",
    "  #Returns data as (image as nparray, class)\n",
    "  #gathering classes\n",
    "  class_titles = os.listdir(path_to_data_folder)\n",
    "  classes_list = list( ( enumerate( class_titles ) ) )\n",
    "  ordered_image_names = []\n",
    "  #placing image, class identifier (from classes_list) pairs in a list named data\n",
    "  data = []\n",
    "  number_of_images = 0\n",
    "  errors = 0 \n",
    "  for gyro_class in classes_list:\n",
    "    for image_name in os.listdir( os.path.join( path_to_data_folder, gyro_class[1] ) ):\n",
    "      number_of_images+=1\n",
    "      try:\n",
    "        im = Image.open( os.path.join( path_to_data_folder, gyro_class[1] , image_name)  )\n",
    "        color_image_nparray = np.asarray( im )\n",
    "        data.append( [color_image_nparray, gyro_class[0]] )\n",
    "        ordered_image_names.append(image_name)\n",
    "      except Exception as error :\n",
    "        errors+=1\n",
    "        print( error, image_name)\n",
    "\n",
    "  return data, class_titles, ordered_image_names, ( number_of_images, errors )"
   ]
  },
  {
   "cell_type": "markdown",
   "id": "nearby-celebrity",
   "metadata": {},
   "source": [
    "# Wavelet Decomposition and Flattening"
   ]
  },
  {
   "cell_type": "code",
   "execution_count": 23,
   "id": "desirable-payment",
   "metadata": {},
   "outputs": [],
   "source": [
    "def get_coefficients_flattend( image, wavelet, levels ):\n",
    "  #image as nparray with color\n",
    "  #flattens and groups coefficients by orientation and subband\n",
    "  #returns as  ( cAn, (cHn, cVn, cDn), … (cH1, cV1, cD1)  )\n",
    "  #                                 . \n",
    "  #                                 .     \n",
    "  #                                 . \n",
    "  #for each picture\n",
    "  #n is the level of decomposition\n",
    "  \n",
    "  pil_image = Image.fromarray(image, \"RGB\")\n",
    "  pil_gray_image = pil_image.convert(\"L\")\n",
    "  gray_img = np.asarray( pil_gray_image ) \n",
    "  decomposed = pywt.wavedec2( gray_img , wavelet, level=levels)\n",
    "\n",
    "  coeff=[]\n",
    "  for subband in range(levels+1):\n",
    "    if subband==0:\n",
    "      coeff.append(np.asarray(decomposed[subband]).flatten())\n",
    "      continue\n",
    "    orientations=[]\n",
    "    for orientation in decomposed[subband]:\n",
    "      orientations.append( np.asarray(orientation).flatten() )\n",
    "    coeff.append(orientations)    \n",
    "\n",
    "  return coeff\n",
    "\n",
    "def data_to_coeffs(data, wavelet, levels):\n",
    "  #calculates wavelet coefficients and flattens them for\n",
    "  #all of the pictures\n",
    "  #returns 2D-array (coeffs, class)\n",
    "  toReturn=[]\n",
    "  for image, class_id in data:\n",
    "      instance = get_coefficients_flattend(image, wavelet, levels), class_id\n",
    "      toReturn.append(instance)\n",
    "  return toReturn"
   ]
  },
  {
   "cell_type": "markdown",
   "id": "breathing-airplane",
   "metadata": {},
   "source": [
    "# Goodness of fit check with different distributions through Qqplots"
   ]
  },
  {
   "cell_type": "markdown",
   "id": "disturbed-experiment",
   "metadata": {},
   "source": [
    "I couldn't find a systematic way of choosing wavelet parameters (function and levels) using Qqplots due to the subjective nature of this this method."
   ]
  },
  {
   "cell_type": "code",
   "execution_count": 24,
   "id": "differential-berry",
   "metadata": {},
   "outputs": [],
   "source": [
    "def qqplots_of_image(image, wavelet, levels, dist):\n",
    "  #image as nparray with color\n",
    "  coeffs=get_coefficients_flattend(image, wavelet, levels)\n",
    "  alpha=0.2\n",
    "\n",
    "  fig,axes = plt.subplots(levels+1,3,figsize=(20,20), constrained_layout=True)\n",
    "  \n",
    "  #Progress\n",
    "  print(getattr(dist,\"name\"), end=\": \")\n",
    "  for m in range(levels+1):\n",
    "    if m==0:\n",
    "      sm.qqplot(coeffs[0], dist=dist, fit=True,\\\n",
    "                line=\"45\", linewidth=0.1, alpha=alpha, marker=\".\", markerfacecolor=\"black\", mew=0, ax=axes[levels-m][0])\n",
    "      axes[levels-m][0].set_title(\"Approximation\")\n",
    "      axes[levels-m][0].tick_params(direction=\"in\")\n",
    "      axes[levels-m][1].remove()\n",
    "      axes[levels-m][2].remove()\n",
    "      continue\n",
    "    for i in range(3):\n",
    "      if i==0: title=\"Level \"+str(levels-m+1)+\": Horizontal\"\n",
    "      if i==1: title=\"Level \"+str(levels-m+1)+\": Vertical\"\n",
    "      if i==2: title=\"Level \"+str(levels-m+1)+\": Diagonal\"\n",
    "\n",
    "      sm.qqplot(coeffs[m][i], dist=dist, fit=True,\\\n",
    "                line=\"45\", linewidth=0.1, alpha=alpha, marker=\".\", markerfacecolor=\"black\", mew=0, ax=axes[levels-m][i])\n",
    "      axes[levels-m][i].set_title(title)\n",
    "      axes[levels-m][i].tick_params(direction=\"in\")\n",
    "\n",
    "      #Progress\n",
    "      print(levels-m+1,i,sep=\"\", end=\" \")\n",
    "  print(\"\")\n",
    "  \n",
    "  title=\"qqplots wavelet={} levels={} dist={}\".format(wavelet, levels, getattr(dist,\"name\"))\n",
    "  fig.suptitle(title, fontsize=16)\n",
    "  fig.savefig(title)\n",
    "\n",
    "  return"
   ]
  },
  {
   "cell_type": "markdown",
   "id": "happy-suicide",
   "metadata": {},
   "source": [
    "# Fitting distributions on the wavelet coefficients  with Matlab"
   ]
  },
  {
   "cell_type": "code",
   "execution_count": 25,
   "id": "obvious-hartford",
   "metadata": {},
   "outputs": [],
   "source": [
    "import h5py\n",
    "import hdf5storage\n",
    "import numpy as np\n",
    "\n",
    "def save_coeffs_for_matlab(data, wavelet, levels, save_folder_path):\n",
    "\n",
    "    all_coeffs = data_to_coeffs(data, wavelet, levels)\n",
    "    toSave ={\"wavelet\":wavelet,\\\n",
    "             \"levels\":levels,\\\n",
    "             \"coeffs\":np.array(all_coeffs) }\n",
    "\n",
    "    scipy.io.savemat(os.path.join(save_folder_path ,\"coefficients wt=\"+wavelet+\"levels=\"+str(levels)+\".mat\"), toSave)\n",
    "    return\n",
    "\n",
    "\n",
    "def save_coeffs_for_matlab_hdf5(data, wavelet, levels, save_folder_path):\n",
    "    #needed when the number of images grows large\n",
    "    all_coeffs = data_to_coeffs(data, wavelet, levels)\n",
    "    toSave ={\"wavelet\":wavelet,\\\n",
    "             \"levels\":levels,\\\n",
    "             \"coeffs\":np.array(all_coeffs, dtype=object) }\n",
    "    \n",
    "    hdf5storage.write(toSave, '.', \"coefficients wt=\"+wavelet+\"levels=\"+str(levels)+\"_hdf5 TEST object.mat\", matlab_compatible=True)    \n",
    "    \n",
    "    return\n",
    "\n",
    "\n",
    "def load_distribution_parameters_from_matlab(distribution_parameters_path):\n",
    "    #after fitting on matlab\n",
    "    load_dict = scipy.io.loadmat(distribution_parameters_path)\n",
    "\n",
    "    return load_dict\n"
   ]
  },
  {
   "cell_type": "markdown",
   "id": "healthy-michael",
   "metadata": {},
   "source": [
    "# Loading distribution parameters from Matlab and preparing them to be used as SVM features in sklearn"
   ]
  },
  {
   "cell_type": "code",
   "execution_count": 26,
   "id": "decreased-nancy",
   "metadata": {},
   "outputs": [],
   "source": [
    "def prepare_features_for_scikit(dist_params_select_path):\\\n",
    "  #dist_params_Select is needed to save time by not fitting \n",
    "  #distributions to all subbands\n",
    "  #dist_params_select_path: path to dist_paramsSelect      \n",
    "    load_dict= load_distribution_parameters_from_matlab(dist_params_select_path)\n",
    "    \n",
    "    dist_params = load_dict[\"dist_params\"]\n",
    "    levels      = load_dict[\"levels\"].reshape(-1)[0]\n",
    "    wavelet     = load_dict[\"wavelet\"]\n",
    "    selection   = load_dict[\"selection\"]\n",
    "#    print(selection)\n",
    "    features=[]\n",
    "    labels=[]\n",
    "    column_names=[]\n",
    "    for instance_index in range(dist_params.shape[0]):\n",
    "        features_from_instance=[]\n",
    "\n",
    "        for level_index in range(dist_params[instance_index,0].shape[1]):\n",
    "            a=level_index==0\n",
    "            b=([0, 0] in selection.tolist())\n",
    "\n",
    "            if a&b:\n",
    "                for parameter_index in range(dist_params[instance_index,0][0,0][0,:].shape[0]):\n",
    "                    features_from_instance.append(dist_params[instance_index,0][0,0][0, parameter_index])\n",
    "                    \n",
    "                    if instance_index==0:\n",
    "                        column_name = \"\".join(str(a) for a in [\"Approximation\", \" Parameter \", parameter_index+1])\n",
    "                        column_names.append(column_name)\n",
    "                continue\n",
    "\n",
    "            for orientation in range(3):\n",
    "                if [levels-level_index+1, orientation+1] in selection.tolist():\n",
    "                    for parameter_index in range(dist_params[instance_index,0][0,level_index][0,:].shape[0]):\n",
    "                        features_from_instance.append(dist_params[instance_index,0][0,level_index][orientation, parameter_index])\n",
    "                        #creating column name\n",
    "                        if instance_index==0:\n",
    "                            column_name=\"\".join(str(a) for a in [\"Level \",\\\n",
    "                                                                 levels-level_index+1,\\\n",
    "                                                                 \" Orientation \",\\\n",
    "                                                                 orientation+1,\\\n",
    "                                                                 \" Parameter \",\\\n",
    "                                                                 parameter_index+1])\n",
    "                            column_names.append(column_name)\n",
    "\n",
    "        features.append(features_from_instance)\n",
    "        labels.append(dist_params[instance_index,1].reshape(-1)[0])\n",
    "    \n",
    "    #dataframe set up\n",
    "    df = pd.DataFrame(features, columns=column_names)\n",
    "    df[\"Labels\"] = labels\n",
    "        \n",
    "    return df"
   ]
  },
  {
   "cell_type": "markdown",
   "id": "guided-hartford",
   "metadata": {},
   "source": [
    "# Visualising features"
   ]
  },
  {
   "cell_type": "markdown",
   "id": "herbal-flashing",
   "metadata": {},
   "source": [
    "We can choose 2 of the parameters and plot points (P1, P2) for each image on a 2 axis graph. If we also color code these points for the different classes we may see clusters indicating class separation in this parameter space."
   ]
  },
  {
   "cell_type": "code",
   "execution_count": 27,
   "id": "enormous-actor",
   "metadata": {},
   "outputs": [],
   "source": [
    "def class_plot_from_distribution_parameters(distribution_parameters_path,\\\n",
    "                                            save_folder_path,\\\n",
    "                                            data_path=\"D:\\\\Work&Uni\\\\University\\\\ML for food authentication\\\\Data\"):\n",
    "  #dist_params from matlab  \n",
    "    \n",
    "  _ , class_titles, _, _= get_data_from_folder(data_path)\n",
    "  load_dict = load_distribution_parameters_from_matlab(distribution_parameters_path)\n",
    "  dist_params = load_dict[\"dist_params\"]\n",
    "  levels = load_dict[\"levels\"][0][0]\n",
    "  wavelet = load_dict[\"wavelet\"][0]\n",
    "  distribution = load_dict[\"distribution\"][0]\n",
    "    \n",
    "  fig, ax = plt.subplots(figsize=(10,10))\n",
    "  title=\"Plot of distribution parameters for\\nWavelet \"+wavelet+\" | Levels: \"+str(levels)+\" | Distribution: \"+ distribution\n",
    "    \n",
    "  N=len(class_titles)\n",
    "  cmap = plt.cm.jet\n",
    "  cmaplist = [cmap(i) for i in range(cmap.N)]\n",
    "  cmap = cmap.from_list('Custom cmap', cmaplist, cmap.N)\n",
    "  bounds = np.linspace(0,N,N+1)\n",
    "  norm = mpl.colors.BoundaryNorm(bounds, cmap.N)\n",
    "    \n",
    "  for instance, label in dist_params:\n",
    "      for level in np.reshape(instance, -1):\n",
    "          for orientation in level:\n",
    "              scat = ax.scatter(orientation[0], orientation[1], c=np.reshape(label,-1)[0], s=50, alpha=1, cmap=cmap, norm=norm)\n",
    "  ax.set_title(title)\n",
    "    \n",
    "  ax.set_xlabel(\"Ditribution Parameter 1\")\n",
    "  ax.set_ylabel(\"Ditribution Parameter 2\")\n",
    "  ax.tick_params(direction=\"in\")\n",
    "  cb = plt.colorbar(scat, spacing='proportional',ticks=bounds)\n",
    "  cb.set_label(\"Classes\")\n",
    "    \n",
    "  fig.savefig(os.path.join(save_folder_path, \"wt= \"+wavelet+\" levels= \"+str(levels)+\" dist=\"+load_dict[\"distribution\"][0]+\".jpg\"), dpi=400)\n",
    "   \n",
    "  return"
   ]
  },
  {
   "cell_type": "code",
   "execution_count": 19,
   "id": "through-village",
   "metadata": {},
   "outputs": [
    {
     "name": "stdout",
     "output_type": "stream",
     "text": [
      "cannot identify image file 'D:\\\\Work&Uni\\\\University\\\\ML for food authentication\\\\Data\\\\cichorium intubus pollen x 400\\\\Cichorium Intybus (Asteraceae)_1_bak.tif' Cichorium Intybus (Asteraceae)_1_bak.tif\n",
      "cannot identify image file 'D:\\\\Work&Uni\\\\University\\\\ML for food authentication\\\\Data\\\\cichorium intubus pollen x 400\\\\Cichorium Intybus (Asteraceae)_3_bak.tif' Cichorium Intybus (Asteraceae)_3_bak.tif\n",
      "cannot identify image file 'D:\\\\Work&Uni\\\\University\\\\ML for food authentication\\\\Data\\\\cichorium intubus pollen x 400\\\\Cichorium Intybus (Asteraceae)_bak.tif' Cichorium Intybus (Asteraceae)_bak.tif\n"
     ]
    },
    {
     "data": {
      "image/png": "[encoded data removed]",
      "text/plain": [
       "<Figure size 720x720 with 2 Axes>"
      ]
     },
     "metadata": {
      "needs_background": "light"
     },
     "output_type": "display_data"
    }
   ],
   "source": [
    "#single Class Plot\n",
    "dist_params_folder_path = \"D:\\\\Work&Uni\\\\University\\\\ML for food authentication\\\\Results_fitting\\\\dist_paramsSelect\\\\New Images\\\\\"    \n",
    "save_folder_path = \"D:\\\\Work&Uni\\\\University\\\\ML for food authentication\\\\Results_fitting\\\\Class plots\"\n",
    "dist_params_name = \"dist_paramsSelect wt=db4 levels=3 dist=tLocationScale.mat\"\n",
    "dist_params_path = os.path.join(dist_params_folder_path, dist_params_name)\n",
    "\n",
    "class_plot_from_distribution_parameters(dist_params_path, save_folder_path)"
   ]
  },
  {
   "cell_type": "markdown",
   "id": "color-governor",
   "metadata": {},
   "source": [
    "# Class populations and data description"
   ]
  },
  {
   "cell_type": "code",
   "execution_count": 10,
   "id": "permanent-necklace",
   "metadata": {},
   "outputs": [
    {
     "name": "stdout",
     "output_type": "stream",
     "text": [
      "cannot identify image file 'D:\\\\Work&Uni\\\\University\\\\ML for food authentication\\\\Data\\\\cichorium intubus pollen x 400\\\\Cichorium Intybus (Asteraceae)_1_bak.tif' Cichorium Intybus (Asteraceae)_1_bak.tif\n",
      "cannot identify image file 'D:\\\\Work&Uni\\\\University\\\\ML for food authentication\\\\Data\\\\cichorium intubus pollen x 400\\\\Cichorium Intybus (Asteraceae)_3_bak.tif' Cichorium Intybus (Asteraceae)_3_bak.tif\n",
      "cannot identify image file 'D:\\\\Work&Uni\\\\University\\\\ML for food authentication\\\\Data\\\\cichorium intubus pollen x 400\\\\Cichorium Intybus (Asteraceae)_bak.tif' Cichorium Intybus (Asteraceae)_bak.tif\n",
      "RESULTS\n",
      " (367, 3) \n",
      "==========================\n",
      "CLASS,titles\n",
      " ['castanea 2_pio synithismeni morfi', 'castanea sp', 'Castanea sp. new 22-7-21', 'cichorium intubus pollen x 400', 'citrus sp', 'eukalyptus sp', 'hedera helix', 'helianthus', 'heliotropium', 'hibiscous', 'inula spinoza', 'origanum', 'pinus', 'reiki_calluna vulgaris_020421', 'sonchus', 'thymus capitatus_020421', 'thymus sp pollen 20-01-21', 'tribulus sp'] \n",
      "===========================\n"
     ]
    }
   ],
   "source": [
    "#load the data\n",
    "\n",
    "data , class_titles, ordered_image_names, results= get_data_from_folder(\"D:\\\\Work&Uni\\\\University\\\\ML for food authentication\\\\Data\\\\\")\n",
    "print(\"RESULTS\\n\",results,\"\\n==========================\")\n",
    "print(\"CLASS,titles\\n\",class_titles,\"\\n===========================\")"
   ]
  },
  {
   "cell_type": "code",
   "execution_count": 11,
   "id": "metropolitan-junior",
   "metadata": {},
   "outputs": [
    {
     "data": {
      "text/html": [
       "<div>\n",
       "<style scoped>\n",
       "    .dataframe tbody tr th:only-of-type {\n",
       "        vertical-align: middle;\n",
       "    }\n",
       "\n",
       "    .dataframe tbody tr th {\n",
       "        vertical-align: top;\n",
       "    }\n",
       "\n",
       "    .dataframe thead th {\n",
       "        text-align: right;\n",
       "    }\n",
       "</style>\n",
       "<table border=\"1\" class=\"dataframe\">\n",
       "  <thead>\n",
       "    <tr style=\"text-align: right;\">\n",
       "      <th></th>\n",
       "      <th>ClassID</th>\n",
       "      <th>NumberofInstances</th>\n",
       "      <th>ClassName</th>\n",
       "    </tr>\n",
       "  </thead>\n",
       "  <tbody>\n",
       "    <tr>\n",
       "      <th>0</th>\n",
       "      <td>2</td>\n",
       "      <td>109</td>\n",
       "      <td>Castanea sp. new 22-7-21</td>\n",
       "    </tr>\n",
       "    <tr>\n",
       "      <th>1</th>\n",
       "      <td>15</td>\n",
       "      <td>101</td>\n",
       "      <td>thymus capitatus_020421</td>\n",
       "    </tr>\n",
       "    <tr>\n",
       "      <th>2</th>\n",
       "      <td>13</td>\n",
       "      <td>101</td>\n",
       "      <td>reiki_calluna vulgaris_020421</td>\n",
       "    </tr>\n",
       "    <tr>\n",
       "      <th>3</th>\n",
       "      <td>16</td>\n",
       "      <td>26</td>\n",
       "      <td>thymus sp pollen 20-01-21</td>\n",
       "    </tr>\n",
       "    <tr>\n",
       "      <th>4</th>\n",
       "      <td>10</td>\n",
       "      <td>8</td>\n",
       "      <td>inula spinoza</td>\n",
       "    </tr>\n",
       "    <tr>\n",
       "      <th>5</th>\n",
       "      <td>1</td>\n",
       "      <td>5</td>\n",
       "      <td>castanea sp</td>\n",
       "    </tr>\n",
       "    <tr>\n",
       "      <th>6</th>\n",
       "      <td>0</td>\n",
       "      <td>2</td>\n",
       "      <td>castanea 2_pio synithismeni morfi</td>\n",
       "    </tr>\n",
       "    <tr>\n",
       "      <th>7</th>\n",
       "      <td>7</td>\n",
       "      <td>2</td>\n",
       "      <td>helianthus</td>\n",
       "    </tr>\n",
       "    <tr>\n",
       "      <th>8</th>\n",
       "      <td>11</td>\n",
       "      <td>2</td>\n",
       "      <td>origanum</td>\n",
       "    </tr>\n",
       "    <tr>\n",
       "      <th>9</th>\n",
       "      <td>12</td>\n",
       "      <td>1</td>\n",
       "      <td>pinus</td>\n",
       "    </tr>\n",
       "    <tr>\n",
       "      <th>10</th>\n",
       "      <td>14</td>\n",
       "      <td>1</td>\n",
       "      <td>sonchus</td>\n",
       "    </tr>\n",
       "    <tr>\n",
       "      <th>11</th>\n",
       "      <td>9</td>\n",
       "      <td>1</td>\n",
       "      <td>hibiscous</td>\n",
       "    </tr>\n",
       "    <tr>\n",
       "      <th>12</th>\n",
       "      <td>8</td>\n",
       "      <td>1</td>\n",
       "      <td>heliotropium</td>\n",
       "    </tr>\n",
       "    <tr>\n",
       "      <th>13</th>\n",
       "      <td>6</td>\n",
       "      <td>1</td>\n",
       "      <td>hedera helix</td>\n",
       "    </tr>\n",
       "    <tr>\n",
       "      <th>14</th>\n",
       "      <td>5</td>\n",
       "      <td>1</td>\n",
       "      <td>eukalyptus sp</td>\n",
       "    </tr>\n",
       "    <tr>\n",
       "      <th>15</th>\n",
       "      <td>4</td>\n",
       "      <td>1</td>\n",
       "      <td>citrus sp</td>\n",
       "    </tr>\n",
       "    <tr>\n",
       "      <th>16</th>\n",
       "      <td>17</td>\n",
       "      <td>1</td>\n",
       "      <td>tribulus sp</td>\n",
       "    </tr>\n",
       "  </tbody>\n",
       "</table>\n",
       "</div>"
      ],
      "text/plain": [
       "    ClassID  NumberofInstances                          ClassName\n",
       "0         2                109           Castanea sp. new 22-7-21\n",
       "1        15                101            thymus capitatus_020421\n",
       "2        13                101      reiki_calluna vulgaris_020421\n",
       "3        16                 26          thymus sp pollen 20-01-21\n",
       "4        10                  8                      inula spinoza\n",
       "5         1                  5                        castanea sp\n",
       "6         0                  2  castanea 2_pio synithismeni morfi\n",
       "7         7                  2                         helianthus\n",
       "8        11                  2                           origanum\n",
       "9        12                  1                              pinus\n",
       "10       14                  1                            sonchus\n",
       "11        9                  1                          hibiscous\n",
       "12        8                  1                       heliotropium\n",
       "13        6                  1                       hedera helix\n",
       "14        5                  1                      eukalyptus sp\n",
       "15        4                  1                          citrus sp\n",
       "16       17                  1                        tribulus sp"
      ]
     },
     "execution_count": 11,
     "metadata": {},
     "output_type": "execute_result"
    }
   ],
   "source": [
    "#class populations\n",
    "class_list = list( ( enumerate( class_titles ) ) )\n",
    "\n",
    "dist_paramsSelect_folder_path = \"D:\\\\Work&Uni\\\\University\\\\ML for food authentication\\\\Results_fitting\\\\dist_paramsSelect\\\\New Images v2 (3 classes of 100)\\\\\"    \n",
    "dist_paramsSelect_name = \"dist_paramsSelect wt=db4 levels=3 dist=Normal.mat\"\n",
    "dist_paramsSelect_path=os.path.join(dist_paramsSelect_folder_path, dist_paramsSelect_name)\n",
    "df = prepare_features_for_scikit(dist_paramsSelect_path)\n",
    "\n",
    "class_population=df['Labels'].value_counts(sort=True)\n",
    "\n",
    "class_dict = dict(class_list)\n",
    "df4 = pd.DataFrame(class_population)\n",
    "\n",
    "df4 = df4.reset_index()\n",
    "df4 = df4.rename(columns={\"index\":\"ClassID\", \"Labels\":\"NumberofInstances\"})\n",
    "# class_dict[df4[\"Class ID\"]]\n",
    "\n",
    "df4[\"ClassName\"] = [class_dict.get(key) for key in df4[\"ClassID\"]]\n",
    "#df4.to_csv(\"data description.csv\",index=False)\n",
    "df4"
   ]
  },
  {
   "cell_type": "markdown",
   "id": "guided-proposition",
   "metadata": {},
   "source": [
    "# Choosing and Balancing Classes"
   ]
  },
  {
   "cell_type": "markdown",
   "id": "floating-tsunami",
   "metadata": {},
   "source": [
    "Although SMVs aren't too sensitive to class population imbalances we balance the population by randomly selecting a number of images from the most populated classes to keep as many as the least populated class."
   ]
  },
  {
   "cell_type": "code",
   "execution_count": 28,
   "id": "dressed-attraction",
   "metadata": {},
   "outputs": [],
   "source": [
    "from sklearn import *\n",
    "from sklearn.model_selection import train_test_split\n",
    "from sklearn import svm\n",
    "from sklearn.pipeline import Pipeline\n",
    "from sklearn.preprocessing import StandardScaler\n",
    "from sklearn.model_selection import train_test_split\n",
    "from sklearn.model_selection import cross_val_score\n",
    "\n",
    "#keeps the n most populated classes\n",
    "def get_larger_classes(dist_paramsSelect_folder, dist_paramsSelect_name, n):\n",
    "    #ready dataframe\n",
    "    dist_paramsSelect_folder_path = dist_paramsSelect_folder\n",
    "    dist_paramsSelect_path=os.path.join(dist_paramsSelect_folder_path, dist_paramsSelect_name)\n",
    "\n",
    "    df = prepare_features_for_scikit(dist_paramsSelect_path)\n",
    "    class_population=df['Labels'].value_counts(sort=True)\n",
    "\n",
    "    #keeping n most populated classes\n",
    "    class_population=df['Labels'].value_counts(sort=True)\n",
    "    n_most_populated_classes= pd.DataFrame()\n",
    "    for i in range(n):\n",
    "        n_most_populated_classes = n_most_populated_classes.append(df[df[\"Labels\"]==class_population.index[i]])\n",
    "        \n",
    "    return n_most_populated_classes, df\n",
    "\n",
    "#randomly chooses images of the larger class to balance out dataset\n",
    "def balance_classes(n_most_populated_classes):\n",
    "  class_population = n_most_populated_classes['Labels'].value_counts(sort=True)\n",
    "  smallest_class_population = class_population.iloc[class_population.shape[0]-1]\n",
    "    \n",
    "  balanced_classes = pd.DataFrame()\n",
    "    \n",
    "  for i in range(class_population.shape[0]):\n",
    "      to_append = n_most_populated_classes[n_most_populated_classes[\"Labels\"]==class_population.index[i]].sample(smallest_class_population)\n",
    "      balanced_classes = balanced_classes.append(to_append, ignore_index=True)\n",
    "\n",
    "  return balanced_classes"
   ]
  },
  {
   "cell_type": "markdown",
   "id": "earlier-screw",
   "metadata": {},
   "source": [
    "# Balancing classes and cross validating SVM"
   ]
  },
  {
   "cell_type": "code",
   "execution_count": 29,
   "id": "august-arkansas",
   "metadata": {},
   "outputs": [
    {
     "name": "stdout",
     "output_type": "stream",
     "text": [
      "CV results\n"
     ]
    },
    {
     "data": {
      "text/html": [
       "<div>\n",
       "<style scoped>\n",
       "    .dataframe tbody tr th:only-of-type {\n",
       "        vertical-align: middle;\n",
       "    }\n",
       "\n",
       "    .dataframe tbody tr th {\n",
       "        vertical-align: top;\n",
       "    }\n",
       "\n",
       "    .dataframe thead th {\n",
       "        text-align: right;\n",
       "    }\n",
       "</style>\n",
       "<table border=\"1\" class=\"dataframe\">\n",
       "  <thead>\n",
       "    <tr style=\"text-align: right;\">\n",
       "      <th></th>\n",
       "      <th>Mean Accuracy</th>\n",
       "      <th>Standard Deviation</th>\n",
       "    </tr>\n",
       "  </thead>\n",
       "  <tbody>\n",
       "    <tr>\n",
       "      <th>0</th>\n",
       "      <td>0.995</td>\n",
       "      <td>0.021794</td>\n",
       "    </tr>\n",
       "  </tbody>\n",
       "</table>\n",
       "</div>"
      ],
      "text/plain": [
       "   Mean Accuracy  Standard Deviation\n",
       "0          0.995            0.021794"
      ]
     },
     "execution_count": 29,
     "metadata": {},
     "output_type": "execute_result"
    }
   ],
   "source": [
    "\n",
    "\n",
    "#cross-validate n most populated classes\n",
    "\n",
    "number_of_classes = 2\n",
    "levels = 3\n",
    "dist = \"Normal\"\n",
    "cv_split = 20\n",
    "wavelet = \"db4\"\n",
    "\n",
    "larger_classes, df = get_larger_classes(\"D:\\\\Work&Uni\\\\University\\\\ML for food authentication\\\\Results_fitting\\\\dist_paramsSelect\\\\New Images v2 (3 classes of 100)\\\\\" ,\\\n",
    "                                        \"dist_paramsSelect wt=db4 levels=3 dist=Normal.mat\",\\\n",
    "                                        number_of_classes)\n",
    "\n",
    "\n",
    "A=balance_classes(larger_classes).to_numpy()\n",
    "x=A[:,:-1]\n",
    "y=A[:,-1]\n",
    "\n",
    "model=pipeline.Pipeline((\\\n",
    "                         (\"scaler\",StandardScaler() ),\\\n",
    "                         (\"svm_clf\", svm.SVC(kernel='rbf', gamma=0.01, C=1, decision_function_shape='ovo'))\\\n",
    "                        ))\n",
    "\n",
    "scores = cross_val_score(model, x, y, cv=cv_split)\n",
    "result = pd.DataFrame({\"Mean Accuracy\":[scores.mean()], \"Standard Deviation\":[scores.std()]})\n",
    "\n",
    "print(\"CV results\")\n",
    "result"
   ]
  },
  {
   "cell_type": "markdown",
   "id": "applied-overhead",
   "metadata": {},
   "source": [
    "# Repeating many times to validate results"
   ]
  },
  {
   "cell_type": "code",
   "execution_count": 30,
   "id": "modified-mongolia",
   "metadata": {},
   "outputs": [],
   "source": [
    "#cross-validate n most populated classes\n",
    "def balance_and_cv(n_most_populated_classes, cv_split):\n",
    "    A=balance_classes(n_most_populated_classes).to_numpy()\n",
    "    x=A[:,:-1]\n",
    "    y=A[:,-1]\n",
    "\n",
    "    model=pipeline.Pipeline((\\\n",
    "                             (\"scaler\",StandardScaler() ),\\\n",
    "                             (\"svm_clf\", svm.SVC(kernel='rbf', gamma=0.01, C=1, decision_function_shape='ovo'))\\\n",
    "                            ))\n",
    "\n",
    "    scores = cross_val_score(model, x, y, cv=cv_split, n_jobs=-1)\n",
    "    return scores"
   ]
  },
  {
   "cell_type": "code",
   "execution_count": 31,
   "id": "silent-participation",
   "metadata": {},
   "outputs": [
    {
     "name": "stdout",
     "output_type": "stream",
     "text": [
      "       Mean Accuracy  Standard Deviation\n",
      "count     100.000000          100.000000\n",
      "mean        0.953647            0.028521\n",
      "std         0.004434            0.009654\n",
      "min         0.943725            0.009347\n",
      "25%         0.950458            0.021682\n",
      "50%         0.953791            0.027693\n",
      "75%         0.957059            0.033568\n",
      "max         0.963791            0.055224\n"
     ]
    },
    {
     "data": {
      "text/html": [
       "<div>\n",
       "<style scoped>\n",
       "    .dataframe tbody tr th:only-of-type {\n",
       "        vertical-align: middle;\n",
       "    }\n",
       "\n",
       "    .dataframe tbody tr th {\n",
       "        vertical-align: top;\n",
       "    }\n",
       "\n",
       "    .dataframe thead th {\n",
       "        text-align: right;\n",
       "    }\n",
       "</style>\n",
       "<table border=\"1\" class=\"dataframe\">\n",
       "  <thead>\n",
       "    <tr style=\"text-align: right;\">\n",
       "      <th></th>\n",
       "      <th>Mean Accuracy</th>\n",
       "      <th>Standard Deviation</th>\n",
       "    </tr>\n",
       "  </thead>\n",
       "  <tbody>\n",
       "    <tr>\n",
       "      <th>0</th>\n",
       "      <td>0.947386</td>\n",
       "      <td>0.047901</td>\n",
       "    </tr>\n",
       "    <tr>\n",
       "      <th>1</th>\n",
       "      <td>0.950261</td>\n",
       "      <td>0.041233</td>\n",
       "    </tr>\n",
       "    <tr>\n",
       "      <th>2</th>\n",
       "      <td>0.950458</td>\n",
       "      <td>0.022163</td>\n",
       "    </tr>\n",
       "    <tr>\n",
       "      <th>3</th>\n",
       "      <td>0.960392</td>\n",
       "      <td>0.025419</td>\n",
       "    </tr>\n",
       "    <tr>\n",
       "      <th>4</th>\n",
       "      <td>0.950458</td>\n",
       "      <td>0.015156</td>\n",
       "    </tr>\n",
       "    <tr>\n",
       "      <th>...</th>\n",
       "      <td>...</td>\n",
       "      <td>...</td>\n",
       "    </tr>\n",
       "    <tr>\n",
       "      <th>95</th>\n",
       "      <td>0.957059</td>\n",
       "      <td>0.013656</td>\n",
       "    </tr>\n",
       "    <tr>\n",
       "      <th>96</th>\n",
       "      <td>0.957190</td>\n",
       "      <td>0.017616</td>\n",
       "    </tr>\n",
       "    <tr>\n",
       "      <th>97</th>\n",
       "      <td>0.956993</td>\n",
       "      <td>0.013921</td>\n",
       "    </tr>\n",
       "    <tr>\n",
       "      <th>98</th>\n",
       "      <td>0.957059</td>\n",
       "      <td>0.021287</td>\n",
       "    </tr>\n",
       "    <tr>\n",
       "      <th>99</th>\n",
       "      <td>0.953856</td>\n",
       "      <td>0.021920</td>\n",
       "    </tr>\n",
       "  </tbody>\n",
       "</table>\n",
       "<p>100 rows × 2 columns</p>\n",
       "</div>"
      ],
      "text/plain": [
       "    Mean Accuracy  Standard Deviation\n",
       "0        0.947386            0.047901\n",
       "1        0.950261            0.041233\n",
       "2        0.950458            0.022163\n",
       "3        0.960392            0.025419\n",
       "4        0.950458            0.015156\n",
       "..            ...                 ...\n",
       "95       0.957059            0.013656\n",
       "96       0.957190            0.017616\n",
       "97       0.956993            0.013921\n",
       "98       0.957059            0.021287\n",
       "99       0.953856            0.021920\n",
       "\n",
       "[100 rows x 2 columns]"
      ]
     },
     "execution_count": 31,
     "metadata": {},
     "output_type": "execute_result"
    }
   ],
   "source": [
    "#3 balanced classes wt=db4 levels=3 dist=Normal\n",
    "results=pd.DataFrame(columns=[\"Mean Accuracy\", \"Standard Deviation\"])\n",
    "larger_classes, df = get_larger_classes(\"D:\\\\Work&Uni\\\\University\\\\ML for food authentication\\\\Results_fitting\\\\dist_paramsSelect\\\\New Images v2 (3 classes of 100)\\\\\" ,\\\n",
    "                                        \"dist_paramsSelect wt=db4 levels=3 dist=Normal.mat\",\\\n",
    "                                        3)\n",
    "for i in range(100):\n",
    "    scores=balance_and_cv(larger_classes, cv_split=6)\n",
    "    results = results.append(pd.DataFrame({\"Mean Accuracy\":[scores.mean()], \"Standard Deviation\":[scores.std()]}), ignore_index=True)\n",
    "    \n",
    "print(results.describe())\n",
    "results\n"
   ]
  },
  {
   "cell_type": "markdown",
   "id": "isolated-belize",
   "metadata": {},
   "source": [
    "# Splitting data for Train/Test"
   ]
  },
  {
   "cell_type": "code",
   "execution_count": 118,
   "id": "backed-occurrence",
   "metadata": {},
   "outputs": [],
   "source": [
    "def get_split_dataset(path_to_distParamsSelect_folder, distribution):\n",
    "    \n",
    "    df = prepare_features_for_scikit(os.path.join(path_to_distParamsSelect_folder, \"dist_paramsSelect wt=db4 levels=3 dist=\"+distribution+\".mat\"))\n",
    "    \n",
    "    A=keep_certain_classes(df, [2,10,13,15]).to_numpy()\n",
    "    x=A[:,:-1]\n",
    "    y=A[:,-1]\n",
    "\n",
    "    X_train, X_test, y_train, y_test = train_test_split(\n",
    "    x, y, test_size=0.33, random_state=41)\n",
    "\n",
    "    A_TRAIN = np.concatenate((X_train, np.array([y_train]).T), axis=1)\n",
    "    A_TEST = np.concatenate((X_test, np.array([y_test]).T), axis=1)\n",
    "\n",
    "    df_TRAIN = pd.DataFrame(A_TRAIN, columns = df.columns)\n",
    "    df_TEST = pd.DataFrame(A_TEST, columns = df.columns)\n",
    "    \n",
    "    return dict(train=df_TRAIN, test=df_TEST)\n",
    "\n",
    "\n",
    "def get_larger_classes_from_df(df,n):\n",
    "    if n == 2: df = keep_certain_classes(df, [2,15])\n",
    "\n",
    "    #keeping n most populated classes\n",
    "    class_population=df['Labels'].value_counts(sort=True)\n",
    "    n_most_populated_classes= pd.DataFrame()\n",
    "    \n",
    "    for i in range(n):\n",
    "        n_most_populated_classes = n_most_populated_classes.append(df[df[\"Labels\"]==class_population.index[i]])\n",
    "        \n",
    "    return n_most_populated_classes, df\n",
    "\n",
    "def keep_certain_classes(df, labels):\n",
    "    toRet = pd.DataFrame()\n",
    "    for label in labels:\n",
    "        toRet = toRet.append(df[df[\"Labels\"]==label])\n",
    "    return toRet\n",
    "    "
   ]
  },
  {
   "cell_type": "markdown",
   "id": "sitting-dayton",
   "metadata": {},
   "source": [
    "# Evaluating stability as the number of classes increases"
   ]
  },
  {
   "cell_type": "code",
   "execution_count": 119,
   "id": "registered-grade",
   "metadata": {},
   "outputs": [],
   "source": [
    "#Helper Function\n",
    "\n",
    "def train(train_data , options, bins=15):\n",
    "    larger_classes, df = get_larger_classes_from_df(train_data, options[\"Number of Classes\"])\n",
    "\n",
    "    instances_per_class = df['Labels'].value_counts(sort=True).iloc[options[\"Number of Classes\"]-1]\n",
    "\n",
    "    options[\"Instances per class\"] = instances_per_class\n",
    "    \n",
    "    results=pd.DataFrame(columns=[\"Mean Accuracy\", \"Standard Deviation\"])\n",
    "\n",
    "    for i in range(options[\"Number of runs\"]):\n",
    "        scores=balance_and_cv(larger_classes, options[\"CV split\"])\n",
    "        results = results.append(pd.DataFrame({\"Mean Accuracy of CV\":[scores.mean()], \"Standard Deviation of CV\":[scores.std()]}), ignore_index=True)\n",
    "\n",
    "    options[\"Mean Accuracy\"] = results.describe()[\"Mean Accuracy of CV\"].iloc[1]\n",
    "    options[\"Standard Deviation of Mean Accuracy\"] = results.describe()[\"Standard Deviation of CV\"].iloc[1]\n",
    "    all_results = pd.DataFrame(columns=[\"Number of Classes\", \"Instances per class\", \"Distribution\", \"Wavelet\", \"Levels\", \"Number of runs\", \"CV split\" ,\"Mean Accuracy\", \"Standard Deviation of Mean Accuracy\"])\n",
    "    all_results = all_results.append(options, ignore_index=True)\n",
    "    \n",
    "    #saving hist\n",
    "    \n",
    "    ax = results[\"Mean Accuracy of CV\"].hist( bins=bins )\n",
    "    fig = ax.get_figure()\n",
    "    ax.set_xlabel(\"Mean Accuracy of CV\")\n",
    "    ax.grid(False)\n",
    "    figtitle=\"hist of \"\n",
    "    for key in options:\n",
    "        figtitle+=key+\" \"+str(options[key])+\" \"\n",
    "    #fig.savefig(figtitle+'.png', dpi=500)\n",
    "    \n",
    "    return all_results\n",
    "\n",
    "\n"
   ]
  },
  {
   "cell_type": "code",
   "execution_count": 120,
   "id": "several-criminal",
   "metadata": {},
   "outputs": [],
   "source": [
    "all_results = pd.DataFrame(columns=[\"Number of Classes\", \"Instances per class\", \"Distribution\", \"Wavelet\", \"Levels\", \"Number of runs\", \"CV split\" ,\"Mean Accuracy\", \"Standard Deviation of Mean Accuracy\"])\n"
   ]
  },
  {
   "cell_type": "code",
   "execution_count": 121,
   "id": "composed-penguin",
   "metadata": {},
   "outputs": [],
   "source": [
    "options_list = [[2,3,\"Normal\",2000,20,\"db4\"],\n",
    "                [2,3,\"tLocationScale\",2000,20,\"db4\"],\n",
    "                [2,3,\"Stable\",2000,20,\"db4\"],\n",
    "                \n",
    "                [3,3,\"Normal\",2000,20,\"db4\"],\n",
    "                [3,3,\"tLocationScale\",2000,20,\"db4\"],\n",
    "                [3,3,\"Stable\",2000,20,\"db4\"],\n",
    "                \n",
    "                [4,3,\"Normal\",2000,3,\"db4\"],\n",
    "                [4,3,\"tLocationScale\",2000,3,\"db4\"],\n",
    "                [4,3,\"Stable\",2000,3,\"db4\"],\n",
    "                \n",
    "                \n",
    "               ]"
   ]
  },
  {
   "cell_type": "code",
   "execution_count": 122,
   "id": "asian-baseball",
   "metadata": {},
   "outputs": [],
   "source": [
    "path_to_distParamsSelect_folder=\"D:\\\\Work&Uni\\\\University\\\\ML for food authentication\\\\Results_fitting\\\\dist_paramsSelect\\\\New Images v2 (3 classes of 100)\\\\\"\n",
    "\n",
    "\n",
    "\n",
    "datasets_dict = dict(Normal=get_split_dataset(path_to_distParamsSelect_folder, \"Normal\"),\n",
    "                Stable=get_split_dataset(path_to_distParamsSelect_folder, \"Stable\"),\n",
    "                tLocationScale=get_split_dataset(path_to_distParamsSelect_folder, \"tLocationScale\")\n",
    "                )"
   ]
  },
  {
   "cell_type": "code",
   "execution_count": 123,
   "id": "nutritional-declaration",
   "metadata": {
    "scrolled": true
   },
   "outputs": [
    {
     "data": {
      "image/png": "[encoded data removed]",
      "text/plain": [
       "<Figure size 432x288 with 1 Axes>"
      ]
     },
     "metadata": {
      "needs_background": "light"
     },
     "output_type": "display_data"
    }
   ],
   "source": [
    "from sklearn.model_selection import train_test_split\n",
    "\n",
    "for a in options_list:\n",
    "    options = {\"Number of Classes\":a[0],\\\n",
    "               \"Levels\":a[1],\\\n",
    "               \"Distribution\":a[2],\\\n",
    "#               \"Number of runs\":a[3],\\\n",
    "               \"Number of runs\":100,\n",
    "               \"CV split\":a[4],\\\n",
    "               \"Wavelet\":a[5]}\n",
    "    train_data=datasets_dict[options[\"Distribution\"]][\"train\"]\n",
    "    \n",
    "    all_results = all_results.append(train(train_data , options),\n",
    "                                     ignore_index=True)\n",
    "    "
   ]
  },
  {
   "cell_type": "code",
   "execution_count": 124,
   "id": "dimensional-participation",
   "metadata": {},
   "outputs": [
    {
     "data": {
      "text/html": [
       "<div>\n",
       "<style scoped>\n",
       "    .dataframe tbody tr th:only-of-type {\n",
       "        vertical-align: middle;\n",
       "    }\n",
       "\n",
       "    .dataframe tbody tr th {\n",
       "        vertical-align: top;\n",
       "    }\n",
       "\n",
       "    .dataframe thead th {\n",
       "        text-align: right;\n",
       "    }\n",
       "</style>\n",
       "<table border=\"1\" class=\"dataframe\">\n",
       "  <thead>\n",
       "    <tr style=\"text-align: right;\">\n",
       "      <th></th>\n",
       "      <th>Number of Classes</th>\n",
       "      <th>Instances per class</th>\n",
       "      <th>Distribution</th>\n",
       "      <th>Wavelet</th>\n",
       "      <th>Levels</th>\n",
       "      <th>Number of runs</th>\n",
       "      <th>CV split</th>\n",
       "      <th>Mean Accuracy</th>\n",
       "      <th>Standard Deviation of Mean Accuracy</th>\n",
       "    </tr>\n",
       "  </thead>\n",
       "  <tbody>\n",
       "    <tr>\n",
       "      <th>0</th>\n",
       "      <td>2</td>\n",
       "      <td>63</td>\n",
       "      <td>Normal</td>\n",
       "      <td>db4</td>\n",
       "      <td>3</td>\n",
       "      <td>100</td>\n",
       "      <td>20</td>\n",
       "      <td>0.993750</td>\n",
       "      <td>0.027243</td>\n",
       "    </tr>\n",
       "    <tr>\n",
       "      <th>1</th>\n",
       "      <td>2</td>\n",
       "      <td>63</td>\n",
       "      <td>tLocationScale</td>\n",
       "      <td>db4</td>\n",
       "      <td>3</td>\n",
       "      <td>100</td>\n",
       "      <td>20</td>\n",
       "      <td>0.992500</td>\n",
       "      <td>0.029886</td>\n",
       "    </tr>\n",
       "    <tr>\n",
       "      <th>2</th>\n",
       "      <td>2</td>\n",
       "      <td>63</td>\n",
       "      <td>Stable</td>\n",
       "      <td>db4</td>\n",
       "      <td>3</td>\n",
       "      <td>100</td>\n",
       "      <td>20</td>\n",
       "      <td>0.993405</td>\n",
       "      <td>0.028748</td>\n",
       "    </tr>\n",
       "    <tr>\n",
       "      <th>3</th>\n",
       "      <td>3</td>\n",
       "      <td>63</td>\n",
       "      <td>Normal</td>\n",
       "      <td>db4</td>\n",
       "      <td>3</td>\n",
       "      <td>100</td>\n",
       "      <td>20</td>\n",
       "      <td>0.935494</td>\n",
       "      <td>0.075276</td>\n",
       "    </tr>\n",
       "    <tr>\n",
       "      <th>4</th>\n",
       "      <td>3</td>\n",
       "      <td>63</td>\n",
       "      <td>tLocationScale</td>\n",
       "      <td>db4</td>\n",
       "      <td>3</td>\n",
       "      <td>100</td>\n",
       "      <td>20</td>\n",
       "      <td>0.988622</td>\n",
       "      <td>0.030530</td>\n",
       "    </tr>\n",
       "    <tr>\n",
       "      <th>5</th>\n",
       "      <td>3</td>\n",
       "      <td>63</td>\n",
       "      <td>Stable</td>\n",
       "      <td>db4</td>\n",
       "      <td>3</td>\n",
       "      <td>100</td>\n",
       "      <td>20</td>\n",
       "      <td>0.991767</td>\n",
       "      <td>0.026505</td>\n",
       "    </tr>\n",
       "    <tr>\n",
       "      <th>6</th>\n",
       "      <td>4</td>\n",
       "      <td>6</td>\n",
       "      <td>Normal</td>\n",
       "      <td>db4</td>\n",
       "      <td>3</td>\n",
       "      <td>100</td>\n",
       "      <td>3</td>\n",
       "      <td>0.763333</td>\n",
       "      <td>0.072517</td>\n",
       "    </tr>\n",
       "    <tr>\n",
       "      <th>7</th>\n",
       "      <td>4</td>\n",
       "      <td>6</td>\n",
       "      <td>tLocationScale</td>\n",
       "      <td>db4</td>\n",
       "      <td>3</td>\n",
       "      <td>100</td>\n",
       "      <td>3</td>\n",
       "      <td>0.985417</td>\n",
       "      <td>0.017362</td>\n",
       "    </tr>\n",
       "    <tr>\n",
       "      <th>8</th>\n",
       "      <td>4</td>\n",
       "      <td>6</td>\n",
       "      <td>Stable</td>\n",
       "      <td>db4</td>\n",
       "      <td>3</td>\n",
       "      <td>100</td>\n",
       "      <td>3</td>\n",
       "      <td>0.972083</td>\n",
       "      <td>0.032093</td>\n",
       "    </tr>\n",
       "  </tbody>\n",
       "</table>\n",
       "</div>"
      ],
      "text/plain": [
       "  Number of Classes Instances per class    Distribution Wavelet Levels  \\\n",
       "0                 2                  63          Normal     db4      3   \n",
       "1                 2                  63  tLocationScale     db4      3   \n",
       "2                 2                  63          Stable     db4      3   \n",
       "3                 3                  63          Normal     db4      3   \n",
       "4                 3                  63  tLocationScale     db4      3   \n",
       "5                 3                  63          Stable     db4      3   \n",
       "6                 4                   6          Normal     db4      3   \n",
       "7                 4                   6  tLocationScale     db4      3   \n",
       "8                 4                   6          Stable     db4      3   \n",
       "\n",
       "  Number of runs CV split  Mean Accuracy  Standard Deviation of Mean Accuracy  \n",
       "0            100       20       0.993750                             0.027243  \n",
       "1            100       20       0.992500                             0.029886  \n",
       "2            100       20       0.993405                             0.028748  \n",
       "3            100       20       0.935494                             0.075276  \n",
       "4            100       20       0.988622                             0.030530  \n",
       "5            100       20       0.991767                             0.026505  \n",
       "6            100        3       0.763333                             0.072517  \n",
       "7            100        3       0.985417                             0.017362  \n",
       "8            100        3       0.972083                             0.032093  "
      ]
     },
     "execution_count": 124,
     "metadata": {},
     "output_type": "execute_result"
    }
   ],
   "source": [
    "all_results"
   ]
  },
  {
   "cell_type": "code",
   "execution_count": 125,
   "id": "younger-hudson",
   "metadata": {},
   "outputs": [
    {
     "name": "stdout",
     "output_type": "stream",
     "text": [
      "\\begin{tabular}{llllrr}\n",
      "\\toprule\n",
      "Number of Classes & Instances per class &   Distribution & CV split &  Mean Accuracy &  Standard Deviation of Mean Accuracy \\\\\n",
      "\\midrule\n",
      "                2 &                  63 &         Normal &       20 &         0.9938 &                               0.0272 \\\\\n",
      "                2 &                  63 & tLocationScale &       20 &         0.9925 &                               0.0299 \\\\\n",
      "                2 &                  63 &         Stable &       20 &         0.9934 &                               0.0287 \\\\\n",
      "                3 &                  63 &         Normal &       20 &         0.9355 &                               0.0753 \\\\\n",
      "                3 &                  63 & tLocationScale &       20 &         0.9886 &                               0.0305 \\\\\n",
      "                3 &                  63 &         Stable &       20 &         0.9918 &                               0.0265 \\\\\n",
      "                4 &                   6 &         Normal &        3 &         0.7633 &                               0.0725 \\\\\n",
      "                4 &                   6 & tLocationScale &        3 &         0.9854 &                               0.0174 \\\\\n",
      "                4 &                   6 &         Stable &        3 &         0.9721 &                               0.0321 \\\\\n",
      "\\bottomrule\n",
      "\\end{tabular}\n",
      "\n"
     ]
    }
   ],
   "source": [
    "print(all_results.to_latex(float_format=\"%.4f\", columns=(\"Number of Classes\",\"Instances per class\",\"Distribution\",\"CV split\",\"Mean Accuracy\",\"Standard Deviation of Mean Accuracy\"), index=False))"
   ]
  },
  {
   "cell_type": "markdown",
   "id": "established-progress",
   "metadata": {},
   "source": [
    "# Plot of accuracy vs the number of classes"
   ]
  },
  {
   "cell_type": "code",
   "execution_count": 126,
   "id": "satellite-services",
   "metadata": {},
   "outputs": [
    {
     "data": {
      "text/plain": [
       "[<matplotlib.axis.XTick at 0x291832682e0>,\n",
       " <matplotlib.axis.XTick at 0x29183268220>,\n",
       " <matplotlib.axis.XTick at 0x29183257880>]"
      ]
     },
     "execution_count": 126,
     "metadata": {},
     "output_type": "execute_result"
    },
    {
     "data": {
      "image/png": "[encoded data removed]",
      "text/plain": [
       "<Figure size 432x288 with 1 Axes>"
      ]
     },
     "metadata": {
      "needs_background": "light"
     },
     "output_type": "display_data"
    },
    {
     "data": {
      "image/png": "[encoded data removed]",
      "text/plain": [
       "<Figure size 432x288 with 1 Axes>"
      ]
     },
     "metadata": {
      "needs_background": "light"
     },
     "output_type": "display_data"
    }
   ],
   "source": [
    "\n",
    "ax = all_results[all_results[\"Distribution\"]==\"Normal\"].plot(x=\"Number of Classes\", y=\"Mean Accuracy\", yerr=\"Standard Deviation of Mean Accuracy\",style=\"x\",label=\"Normal\", markersize=5, capsize=5, capthick=2)\n",
    "all_results[all_results[\"Distribution\"]==\"Stable\"].plot(x=\"Number of Classes\", y=\"Mean Accuracy\", yerr=\"Standard Deviation of Mean Accuracy\",style=\".\",label=\"Stable\", ax=ax, markersize=5, capsize=5, capthick=2)\n",
    "all_results[all_results[\"Distribution\"]==\"tLocationScale\"].plot(x=\"Number of Classes\", y=\"Mean Accuracy\", yerr=\"Standard Deviation of Mean Accuracy\",style=\"o\",label=\"tLocationScale\", ax=ax, markersize=5, capsize=5, capthick=2)\n",
    "ax.set_ylabel(\"Mean Accuracy\")\n",
    "ax.set_xticks(range(2,5))\n",
    "\n",
    "ax2 = all_results[all_results[\"Distribution\"]==\"Normal\"].plot(x=\"Number of Classes\", y=\"Standard Deviation of Mean Accuracy\", style=\"-o\",label=\"Normal\", markersize=10)\n",
    "all_results[all_results[\"Distribution\"]==\"Stable\"].plot(x=\"Number of Classes\", y=\"Standard Deviation of Mean Accuracy\" ,style=\"-o\",label=\"Stable\", ax=ax2, markersize=10)\n",
    "all_results[all_results[\"Distribution\"]==\"tLocationScale\"].plot(x=\"Number of Classes\", y=\"Standard Deviation of Mean Accuracy\", style=\"-o\",label=\"tLocationScale\",ax=ax2, markersize=10)\n",
    "ax2.set_ylabel(\"Standard Deviation of Mean Accuracy\")\n",
    "ax2.set_xticks(range(2,5))\n",
    "\n",
    "\n"
   ]
  },
  {
   "cell_type": "code",
   "execution_count": 127,
   "id": "operating-accident",
   "metadata": {},
   "outputs": [],
   "source": [
    "ax.get_figure().savefig(\"mean accuracy1.png\",dpi=400)\n",
    "ax2.get_figure().savefig(\"std1.png\",dpi=400)"
   ]
  },
  {
   "cell_type": "markdown",
   "id": "outside-evans",
   "metadata": {},
   "source": [
    "# Validating of the best 3 classes model (Stable distribution) using the test data"
   ]
  },
  {
   "cell_type": "code",
   "execution_count": 128,
   "id": "broke-dragon",
   "metadata": {},
   "outputs": [],
   "source": [
    "#from https://github.com/DTrimarchi10/confusion_matrix/blob/master/cf_matrix.py\n",
    "\n",
    "import numpy as np\n",
    "import matplotlib.pyplot as plt\n",
    "import seaborn as sns\n",
    "\n",
    "def make_confusion_matrix(cf,\n",
    "                          group_names=None,\n",
    "                          categories='auto',\n",
    "                          count=True,\n",
    "                          percent=True,\n",
    "                          cbar=True,\n",
    "                          xyticks=True,\n",
    "                          xyplotlabels=True,\n",
    "                          sum_stats=True,\n",
    "                          figsize=None,\n",
    "                          cmap='Blues',\n",
    "                          title=None):\n",
    "    '''\n",
    "    This function will make a pretty plot of an sklearn Confusion Matrix cm using a Seaborn heatmap visualization.\n",
    "    Arguments\n",
    "    ---------\n",
    "    cf:            confusion matrix to be passed in\n",
    "    group_names:   List of strings that represent the labels row by row to be shown in each square.\n",
    "    categories:    List of strings containing the categories to be displayed on the x,y axis. Default is 'auto'\n",
    "    count:         If True, show the raw number in the confusion matrix. Default is True.\n",
    "    normalize:     If True, show the proportions for each category. Default is True.\n",
    "    cbar:          If True, show the color bar. The cbar values are based off the values in the confusion matrix.\n",
    "                   Default is True.\n",
    "    xyticks:       If True, show x and y ticks. Default is True.\n",
    "    xyplotlabels:  If True, show 'True Label' and 'Predicted Label' on the figure. Default is True.\n",
    "    sum_stats:     If True, display summary statistics below the figure. Default is True.\n",
    "    figsize:       Tuple representing the figure size. Default will be the matplotlib rcParams value.\n",
    "    cmap:          Colormap of the values displayed from matplotlib.pyplot.cm. Default is 'Blues'\n",
    "                   See http://matplotlib.org/examples/color/colormaps_reference.html\n",
    "                   \n",
    "    title:         Title for the heatmap. Default is None.\n",
    "    '''\n",
    "\n",
    "\n",
    "    # CODE TO GENERATE TEXT INSIDE EACH SQUARE\n",
    "    blanks = ['' for i in range(cf.size)]\n",
    "\n",
    "    if group_names and len(group_names)==cf.size:\n",
    "        group_labels = [\"{}\\n\".format(value) for value in group_names]\n",
    "    else:\n",
    "        group_labels = blanks\n",
    "\n",
    "    if count:\n",
    "        group_counts = [\"{0:0.0f}\\n\".format(value) for value in cf.flatten()]\n",
    "    else:\n",
    "        group_counts = blanks\n",
    "\n",
    "    if percent:\n",
    "        group_percentages = [\"{0:.2%}\".format(value) for value in cf.flatten()/np.sum(cf)]\n",
    "    else:\n",
    "        group_percentages = blanks\n",
    "\n",
    "    box_labels = [f\"{v1}{v2}{v3}\".strip() for v1, v2, v3 in zip(group_labels,group_counts,group_percentages)]\n",
    "    box_labels = np.asarray(box_labels).reshape(cf.shape[0],cf.shape[1])\n",
    "\n",
    "\n",
    "    # CODE TO GENERATE SUMMARY STATISTICS & TEXT FOR SUMMARY STATS\n",
    "    if sum_stats:\n",
    "        #Accuracy is sum of diagonal divided by total observations\n",
    "        accuracy  = np.trace(cf) / float(np.sum(cf))\n",
    "\n",
    "        #if it is a binary confusion matrix, show some more stats\n",
    "        if len(cf)==2:\n",
    "            #Metrics for Binary Confusion Matrices\n",
    "            precision = cf[1,1] / sum(cf[:,1])\n",
    "            recall    = cf[1,1] / sum(cf[1,:])\n",
    "            f1_score  = 2*precision*recall / (precision + recall)\n",
    "            stats_text = \"\\n\\nAccuracy={:0.3f}\\nPrecision={:0.3f}\\nRecall={:0.3f}\\nF1 Score={:0.3f}\".format(\n",
    "                accuracy,precision,recall,f1_score)\n",
    "        else:\n",
    "            stats_text = \"\\n\\nAccuracy={:0.3f}\".format(accuracy)\n",
    "    else:\n",
    "        stats_text = \"\"\n",
    "\n",
    "\n",
    "    # SET FIGURE PARAMETERS ACCORDING TO OTHER ARGUMENTS\n",
    "    if figsize==None:\n",
    "        #Get default figure size if not set\n",
    "        figsize = plt.rcParams.get('figure.figsize')\n",
    "\n",
    "    if xyticks==False:\n",
    "        #Do not show categories if xyticks is False\n",
    "        categories=False\n",
    "\n",
    "\n",
    "    # MAKE THE HEATMAP VISUALIZATION\n",
    "    plt.figure(figsize=figsize)\n",
    "    sns.heatmap(cf,annot=box_labels,fmt=\"\",cmap=cmap,cbar=cbar,xticklabels=categories,yticklabels=categories)\n",
    "\n",
    "    if xyplotlabels:\n",
    "        plt.ylabel('True label')\n",
    "        plt.xlabel('Predicted label' + stats_text)\n",
    "    else:\n",
    "        plt.xlabel(stats_text)\n",
    "    \n",
    "    if title:\n",
    "        plt.title(title)\n",
    "        \n",
    "    plt.savefig(\"confusion_matrix.jpg\", dpi=400)"
   ]
  },
  {
   "cell_type": "code",
   "execution_count": 129,
   "id": "laden-butler",
   "metadata": {},
   "outputs": [],
   "source": [
    "from sklearn import *\n",
    "from sklearn.model_selection import train_test_split\n",
    "from sklearn import svm\n",
    "from sklearn.pipeline import Pipeline\n",
    "from sklearn.preprocessing import StandardScaler\n",
    "from sklearn.model_selection import train_test_split\n",
    "from sklearn.model_selection import cross_val_score\n",
    "\n",
    "#cross-validate n most populated classes\n",
    "\n",
    "number_of_classes = 3\n",
    "levels = 3\n",
    "dist = \"Stable\"\n",
    "cv_split = 20\n",
    "wavelet = \"db4\"\n",
    "\n",
    "\n",
    "train_data=datasets_dict[\"Stable\"][\"train\"]\n",
    "\n",
    "larger_classes, df = get_larger_classes_from_df(train_data, number_of_classes)\n",
    "\n",
    "A=balance_classes(larger_classes).to_numpy()\n",
    "\n",
    "x=A[:,:-1]\n",
    "y=A[:,-1]\n",
    "\n",
    "\n",
    "model=pipeline.Pipeline((\\\n",
    "                         (\"scaler\",StandardScaler() ),\\\n",
    "                         (\"svm_clf\", svm.SVC(kernel='rbf', gamma=0.01, C=1, decision_function_shape='ovo'))\\\n",
    "                        ))\n",
    "\n",
    "model = model.fit(x,y)\n"
   ]
  },
  {
   "cell_type": "code",
   "execution_count": 130,
   "id": "tight-aircraft",
   "metadata": {},
   "outputs": [
    {
     "data": {
      "image/png": "[encoded data removed]",
      "text/plain": [
       "<Figure size 432x432 with 2 Axes>"
      ]
     },
     "metadata": {
      "needs_background": "light"
     },
     "output_type": "display_data"
    }
   ],
   "source": [
    "from sklearn.metrics import confusion_matrix\n",
    "\n",
    "test_data=datasets_dict[\"Stable\"][\"test\"]\n",
    "\n",
    "larger_classes, df = get_larger_classes_from_df(test_data, number_of_classes)\n",
    "\n",
    "A=larger_classes.to_numpy()\n",
    "\n",
    "X_test=A[:,:-1]\n",
    "y_test=A[:,-1]\n",
    "\n",
    "cf_matrix = confusion_matrix(y_test, model.predict(X_test))\n",
    "\n",
    "labels = ['True Neg',\"False Pos\",\"False Neg\",\"True Pos\"]\n",
    "categories = [\"Castanea\", \"Calluna Vulgaris\", \"Thymus capitatus\"]\n",
    "make_confusion_matrix(cf_matrix, \n",
    "                      figsize=(6,6),\n",
    "                      group_names=labels,\n",
    "                      categories=categories, \n",
    "                      cmap=\"binary\")\n"
   ]
  },
  {
   "cell_type": "code",
   "execution_count": 131,
   "id": "atlantic-purchase",
   "metadata": {},
   "outputs": [
    {
     "name": "stdout",
     "output_type": "stream",
     "text": [
      "(array([1.        , 1.        , 0.97435897]), array([1.     , 0.96875, 1.     ]), array([1.        , 0.98412698, 0.98701299]), array([34, 32, 38], dtype=int64))\n"
     ]
    }
   ],
   "source": [
    "from sklearn.metrics import precision_recall_fscore_support\n",
    "\n",
    "\n",
    "print(precision_recall_fscore_support(y_test, model.predict(X_test)))"
   ]
  },
  {
   "cell_type": "code",
   "execution_count": 132,
   "id": "appropriate-sitting",
   "metadata": {},
   "outputs": [
    {
     "name": "stdout",
     "output_type": "stream",
     "text": [
      "0.9906311637080868\n",
      "0.9903846153846154\n",
      "0.9903707403707404\n",
      "None\n"
     ]
    }
   ],
   "source": [
    "for a in precision_recall_fscore_support(y_test, model.predict(X_test), average=\"weighted\"):\n",
    "    print(a)"
   ]
  },
  {
   "cell_type": "code",
   "execution_count": 133,
   "id": "vulnerable-norfolk",
   "metadata": {},
   "outputs": [
    {
     "name": "stdout",
     "output_type": "stream",
     "text": [
      "              precision    recall  f1-score   support\n",
      "\n",
      "         2.0    1.00000   1.00000   1.00000        34\n",
      "        13.0    1.00000   0.96875   0.98413        32\n",
      "        15.0    0.97436   1.00000   0.98701        38\n",
      "\n",
      "    accuracy                        0.99038       104\n",
      "   macro avg    0.99145   0.98958   0.99038       104\n",
      "weighted avg    0.99063   0.99038   0.99037       104\n",
      "\n"
     ]
    }
   ],
   "source": [
    "from sklearn.metrics import classification_report\n",
    "\n",
    "print(classification_report(y_test, model.predict(X_test), digits=5))"
   ]
  },
  {
   "cell_type": "code",
   "execution_count": 134,
   "id": "greater-fault",
   "metadata": {},
   "outputs": [
    {
     "name": "stdout",
     "output_type": "stream",
     "text": [
      "0.9903846153846154\n"
     ]
    }
   ],
   "source": [
    "from sklearn.metrics import accuracy_score\n",
    "\n",
    "print(accuracy_score(y_test, model.predict(X_test)))"
   ]
  },
  {
   "cell_type": "code",
   "execution_count": 135,
   "id": "included-privilege",
   "metadata": {},
   "outputs": [
    {
     "name": "stdout",
     "output_type": "stream",
     "text": [
      "0.9855274144169218\n"
     ]
    }
   ],
   "source": [
    "from sklearn.metrics import cohen_kappa_score\n",
    "\n",
    "print(cohen_kappa_score(y_test, model.predict(X_test)))"
   ]
  },
  {
   "cell_type": "code",
   "execution_count": null,
   "id": "sound-clearance",
   "metadata": {},
   "outputs": [],
   "source": []
  },
  {
   "cell_type": "code",
   "execution_count": null,
   "id": "general-program",
   "metadata": {},
   "outputs": [],
   "source": []
  }
 ],
 "metadata": {
  "interpreter": {
   "hash": "a210d2636142fcb7bd9a3af98d3f8b010348a652a6661135745b229153435579"
  },
  "kernelspec": {
   "display_name": "Python 3",
   "language": "python",
   "name": "python3"
  },
  "language_info": {
   "codemirror_mode": {
    "name": "ipython",
    "version": 3
   },
   "file_extension": ".py",
   "mimetype": "text/x-python",
   "name": "python",
   "nbconvert_exporter": "python",
   "pygments_lexer": "ipython3",
   "version": "3.8.5"
  }
 },
 "nbformat": 4,
 "nbformat_minor": 5
}
