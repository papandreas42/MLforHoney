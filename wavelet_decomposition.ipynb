{
 "cells": [
  {
   "cell_type": "markdown",
   "metadata": {
    "id": "VbANzoi9o-YY"
   },
   "source": [
    "# Set-up\n"
   ]
  },
  {
   "cell_type": "code",
   "execution_count": 53,
   "metadata": {
    "colab": {
     "base_uri": "https://localhost:8080/"
    },
    "id": "-YocF9Veo9nC",
    "outputId": "f93ea02d-ee84-4ae5-fbb7-7740daa6592e"
   },
   "outputs": [],
   "source": [
    "import os\n",
    "import numpy as np\n",
    "import scipy\n",
    "import scipy.io\n",
    "import scipy.stats as stats\n",
    "from PIL import Image\n",
    "import pywt\n",
    "import matplotlib as mpl\n",
    "import matplotlib.pyplot as plt\n",
    "import statsmodels.api as sm"
   ]
  },
  {
   "cell_type": "code",
   "execution_count": 54,
   "metadata": {
    "colab": {
     "base_uri": "https://localhost:8080/"
    },
    "id": "FqSSmR3zBwiF",
    "outputId": "c5372186-c9f5-400a-97f9-ff145e51895f"
   },
   "outputs": [
    {
     "name": "stdout",
     "output_type": "stream",
     "text": [
      "Python 3.8.5\n",
      "1.5.2\n"
     ]
    }
   ],
   "source": [
    "!python --version\n",
    "print(scipy.version.version)"
   ]
  },
  {
   "cell_type": "markdown",
   "metadata": {
    "id": "9RayW6321Tn4"
   },
   "source": [
    "# Functions"
   ]
  },
  {
   "cell_type": "code",
   "execution_count": 55,
   "metadata": {
    "id": "MOyj3FvZqDiT"
   },
   "outputs": [],
   "source": [
    "def get_data_from_Drive(path_to_data_folder):\n",
    "  from google.colab import drive\n",
    "  drive.mount('/content/drive')\n",
    "  return get_data_from_folder(os.path.join(\"/content/drive/MyDrive\", path_to_data_folder))  \n",
    "\n",
    "def get_data_from_folder( path_to_data_folder ):\n",
    "  #Each class must recide in its own folder.\n",
    "  #Returns data as (image as nparray, class)\n",
    "  #gathering classes\n",
    "  class_titles = os.listdir(path_to_data_folder)\n",
    "  classes_list = list( ( enumerate( class_titles ) ) )\n",
    "  ordered_image_names = []\n",
    "  #placing image, class identifier (from classes_list) pairs in a list named data\n",
    "  data = []\n",
    "  number_of_images = 0\n",
    "  errors = 0 \n",
    "  for gyro_class in classes_list:\n",
    "    for image_name in os.listdir( os.path.join( path_to_data_folder, gyro_class[1] ) ):\n",
    "      number_of_images+=1\n",
    "      try:\n",
    "        im = Image.open( os.path.join( path_to_data_folder, gyro_class[1] , image_name)  )\n",
    "        color_image_nparray = np.asarray( im )\n",
    "        data.append( [color_image_nparray, gyro_class[0]] )\n",
    "        ordered_image_names.append(image_name)\n",
    "      except Exception as error :\n",
    "        errors+=1\n",
    "        print( error, image_name)\n",
    "\n",
    "  return data, class_titles, ordered_image_names, ( number_of_images, errors )\n",
    "\n",
    "def get_coefficients_flattend( image, wavelet, levels ):\n",
    "  #image as nparray with color\n",
    "  #flattens and groups coefficients by orientation and subband\n",
    "  #returns as  ( cAn, (cHn, cVn, cDn), … (cH1, cV1, cD1)  )\n",
    "  #                                 . \n",
    "  #                                 .     \n",
    "  #                                 . \n",
    "  #for each picture\n",
    "  #n is the level of decomposition\n",
    "  \n",
    "  pil_image = Image.fromarray(image, \"RGB\")\n",
    "  pil_gray_image = pil_image.convert(\"L\")\n",
    "  gray_img = np.asarray( pil_gray_image ) \n",
    "  decomposed = pywt.wavedec2( gray_img , wavelet, level=levels)\n",
    "\n",
    "  coeff=[]\n",
    "  for subband in range(levels+1):\n",
    "    if subband==0:\n",
    "      coeff.append(np.asarray(decomposed[subband]).flatten())\n",
    "      continue\n",
    "    orientations=[]\n",
    "    for orientation in decomposed[subband]:\n",
    "      orientations.append( np.asarray(orientation).flatten() )\n",
    "    coeff.append(orientations)    \n",
    "\n",
    "  return coeff\n",
    "\n",
    "def qqplots_of_image(image, wavelet, levels, dist):\n",
    "  \n",
    "  coeffs=get_coefficients_flattend(image, wavelet, levels)\n",
    "  alpha=0.2\n",
    "\n",
    "  fig,axes = plt.subplots(levels+1,3,figsize=(20,20), constrained_layout=True)\n",
    "  \n",
    "  #Progress\n",
    "  print(getattr(dist,\"name\"), end=\": \")\n",
    "  for m in range(levels+1):\n",
    "    if m==0:\n",
    "      sm.qqplot(coeffs[0], dist=dist, fit=True,\\\n",
    "                line=\"45\", linewidth=0.1, alpha=alpha, marker=\".\", markerfacecolor=\"black\", mew=0, ax=axes[levels-m][0])\n",
    "      axes[levels-m][0].set_title(\"Approximation\")\n",
    "      axes[levels-m][0].tick_params(direction=\"in\")\n",
    "      axes[levels-m][1].remove()\n",
    "      axes[levels-m][2].remove()\n",
    "      continue\n",
    "    for i in range(3):\n",
    "      if i==0: title=\"Level \"+str(levels-m+1)+\": Horizontal\"\n",
    "      if i==1: title=\"Level \"+str(levels-m+1)+\": Vertical\"\n",
    "      if i==2: title=\"Level \"+str(levels-m+1)+\": Diagonal\"\n",
    "\n",
    "      sm.qqplot(coeffs[m][i], dist=dist, fit=True,\\\n",
    "                line=\"45\", linewidth=0.1, alpha=alpha, marker=\".\", markerfacecolor=\"black\", mew=0, ax=axes[levels-m][i])\n",
    "      axes[levels-m][i].set_title(title)\n",
    "      axes[levels-m][i].tick_params(direction=\"in\")\n",
    "\n",
    "      #Progress\n",
    "      print(levels-m+1,i,sep=\"\", end=\" \")\n",
    "  print(\"\")\n",
    "  \n",
    "  title=\"qqplots wavelet={} levels={} dist={}\".format(wavelet, levels, getattr(dist,\"name\"))\n",
    "  fig.suptitle(title, fontsize=16)\n",
    "  fig.savefig(title)\n",
    "\n",
    "  return\n",
    "\n"
   ]
  },
  {
   "cell_type": "markdown",
   "metadata": {
    "id": "zz8rQX9t-oly"
   },
   "source": [
    "# Visualising grouping by distribution parameters"
   ]
  },
  {
   "cell_type": "code",
   "execution_count": 60,
   "metadata": {
    "id": "BNgQfC26_dgw"
   },
   "outputs": [],
   "source": [
    "def data_to_coeffs(data, wavelet, levels):\n",
    "    toReturn=[]\n",
    "    for image, class_id in data:\n",
    "        instance = get_coefficients_flattend(image, wavelet, levels), class_id\n",
    "        toReturn.append(instance)\n",
    "    return toReturn\n",
    "#return 2D-array (coeffs, class)\n",
    "\n",
    "def save_coeffs_for_matlab(data, wavelet, levels):\n",
    "    all_coeffs = data_to_coeffs(data, wavelet, levels)\n",
    "    toSave ={\"wavelet\":wavelet,\\\n",
    "             \"levels\":levels,\\\n",
    "             \"coeffs\":np.array(all_coeffs) }\n",
    "\n",
    "    scipy.io.savemat(\"coefficients wt=\"+wavelet+\"levels=\"+str(levels)+\".mat\", toSave)\n",
    "    return\n",
    "\n",
    "def load_distribution_parameters_from_matlab(distribution_parameters_path):\n",
    "    load_dict = scipy.io.loadmat(distribution_parameters_path)\n",
    "\n",
    "    return load_dict\n",
    "\n",
    "def prepare_features_for_scikit(dist_params_select_path):\n",
    "#path: to dist_paramsSelect    \n",
    "    load_dict= load_distribution_parameters_from_matlab(dist_params_select_path)\n",
    "    \n",
    "    dist_params =load_dict[\"dist_params\"]\n",
    "    levels=load_dict[\"levels\"].reshape(-1)[0]\n",
    "    selection = load_dict[\"selection\"]\n",
    "    print(selection)\n",
    "    features=[]\n",
    "    labels=[]\n",
    "    for instance_index in range(dist_params.shape[0]):\n",
    "        features_from_instance=[]\n",
    "\n",
    "        for level_index in range(dist_params[instance_index,0].shape[1]):\n",
    "            a=level_index==0\n",
    "            b=([0, 0] in selection.tolist())\n",
    "\n",
    "            if a&b:\n",
    "                param1 = dist_params[instance_index,0][0,0][0,0]\n",
    "                param2 = dist_params[instance_index,0][0,0][0,1]\n",
    "                features_from_instance.append(param1)\n",
    "                features_from_instance.append(param2)\n",
    "                print(\"instance:\",instance_index, \" Aprox\")\n",
    "                continue\n",
    "\n",
    "            for orientation in range(3):\n",
    "                if [levels-level_index+1, orientation+1] in selection.tolist():\n",
    "                    param1 = dist_params[instance_index,0][0,level_index][orientation,0]\n",
    "                    param2 = dist_params[instance_index,0][0,level_index][orientation,1]\n",
    "                    features_from_instance.append(param1)\n",
    "                    features_from_instance.append(param2)\n",
    "                    print(\"instance:\",instance_index,\" level:\", levels-level_index+1, \" orientation:\",  orientation+1)\n",
    "        features.append(features_from_instance)\n",
    "        labels.append(dist_params[instance_index,1].reshape(-1)[0])\n",
    "        \n",
    "        \n",
    "    return features, labels\n",
    "\n",
    "\n",
    "\n",
    "def class_plot_from_distribution_parameters(distribution_parameters_path, save_folder_path):\n",
    "#dist_params from matlab    \n",
    "    _ , class_titles, _, _= get_data_from_folder(\"Data\")\n",
    "    load_dict = load_distribution_parameters_from_matlab(distribution_parameters_path)\n",
    "    dist_params = load_dict[\"dist_params\"]\n",
    "    levels = load_dict[\"levels\"][0][0]\n",
    "    wavelet = load_dict[\"wavelet\"][0]\n",
    "    distribution = load_dict[\"distribution\"][0]\n",
    "    fig, ax = plt.subplots(figsize=(10,10))\n",
    "    title=\"Plot of distribution parameters for\\nWavelet \"+wavelet+\" | Levels: \"+str(levels)+\" | Distribution: \"+ distribution\n",
    "    \n",
    "    N=len(class_titles)\n",
    "    cmap = plt.cm.jet\n",
    "    cmaplist = [cmap(i) for i in range(cmap.N)]\n",
    "    cmap = cmap.from_list('Custom cmap', cmaplist, cmap.N)\n",
    "    bounds = np.linspace(0,N,N+1)\n",
    "    norm = mpl.colors.BoundaryNorm(bounds, cmap.N)\n",
    "    \n",
    "    for instance, label in dist_params:\n",
    "        for level in np.reshape(instance, -1):\n",
    "            for orientation in level:\n",
    "                scat = ax.scatter(orientation[0], orientation[1], c=np.reshape(label,-1)[0], s=50, alpha=1, cmap=cmap, norm=norm)\n",
    "    ax.set_title(title)\n",
    "    \n",
    "    ax.set_xlabel(\"Ditribution Parameter 1\")\n",
    "    ax.set_ylabel(\"Ditribution Parameter 2\")\n",
    "    ax.tick_params(direction=\"in\")\n",
    "    cb = plt.colorbar(scat, spacing='proportional',ticks=bounds)\n",
    "    cb.set_label(\"Classes\")\n",
    "    \n",
    "    fig.savefig(os.path.join(save_folder_path, \"wt= \"+wavelet+\" levels= \"+str(levels)+\" dist=\"+load_dict[\"distribution\"][0]+\".jpeg\"), dpi=200)\n",
    "    \n",
    "    return"
   ]
  },
  {
   "cell_type": "code",
   "execution_count": null,
   "metadata": {},
   "outputs": [],
   "source": []
  },
  {
   "cell_type": "code",
   "execution_count": null,
   "metadata": {},
   "outputs": [],
   "source": []
  },
  {
   "cell_type": "markdown",
   "metadata": {
    "id": "ethMRTUCGPtS"
   },
   "source": [
    "# Testing - Using"
   ]
  },
  {
   "cell_type": "code",
   "execution_count": 7,
   "metadata": {
    "colab": {
     "base_uri": "https://localhost:8080/"
    },
    "id": "Mx5-v4AhJ7Gu",
    "outputId": "18d5c622-2de6-4d07-8df3-9483e1e27078"
   },
   "outputs": [
    {
     "name": "stdout",
     "output_type": "stream",
     "text": [
      "cannot identify image file 'Data\\\\cichorium intubus pollen x 400\\\\Cichorium Intybus (Asteraceae)_1_bak.tif' Cichorium Intybus (Asteraceae)_1_bak.tif\n",
      "cannot identify image file 'Data\\\\cichorium intubus pollen x 400\\\\Cichorium Intybus (Asteraceae)_3_bak.tif' Cichorium Intybus (Asteraceae)_3_bak.tif\n",
      "cannot identify image file 'Data\\\\cichorium intubus pollen x 400\\\\Cichorium Intybus (Asteraceae)_bak.tif' Cichorium Intybus (Asteraceae)_bak.tif\n",
      "RESULTS\n",
      " (56, 3) \n",
      "==========================\n",
      "CLASS,titles\n",
      " ['castanea 2_pio synithismeni morfi', 'castanea sp', 'cichorium intubus pollen x 400', 'citrus sp', 'eukalyptus sp', 'hedera helix', 'helianthus', 'heliotropium', 'hibiscous', 'inula spinoza', 'origanum', 'pinus', 'sonchus', 'thymus sp pollen 20-01-21', 'tribulus sp'] \n",
      "===========================\n"
     ]
    }
   ],
   "source": [
    "data , class_titles, ordered_image_names, results= get_data_from_folder(\"Data\")\n",
    "print(\"RESULTS\\n\",results,\"\\n==========================\")\n",
    "print(\"CLASS,titles\\n\",class_titles,\"\\n===========================\")\n"
   ]
  },
  {
   "cell_type": "code",
   "execution_count": null,
   "metadata": {
    "colab": {
     "base_uri": "https://localhost:8080/"
    },
    "id": "nJQwXm4EwcP3",
    "outputId": "de423dd6-e7e5-4f83-8d90-33f80a76c80a"
   },
   "outputs": [],
   "source": [
    "#wavevelet_decomposition, producing coefficients\n",
    "wavelets = [\"db4\",\"db8\",\"db12\"]\n",
    "levels_list = [5,6]\n",
    "for wavelet in wavelets:\n",
    "    for levels in levels_list:\n",
    "        save_coeffs_for_matlab(data, wavelet, levels)\n",
    "#now run matlab code"
   ]
  },
  {
   "cell_type": "code",
   "execution_count": 32,
   "metadata": {},
   "outputs": [
    {
     "name": "stdout",
     "output_type": "stream",
     "text": [
      "False\n"
     ]
    }
   ],
   "source": []
  },
  {
   "cell_type": "code",
   "execution_count": 51,
   "metadata": {
    "colab": {
     "base_uri": "https://localhost:8080/"
    },
    "id": "AzKRzi0dxbv9",
    "outputId": "9ed3e23c-6be7-4ce0-ac83-ee3e184c197b"
   },
   "outputs": [
    {
     "name": "stdout",
     "output_type": "stream",
     "text": [
      "[[5 1]\n",
      " [4 3]\n",
      " [4 2]\n",
      " [3 2]\n",
      " [0 0]]\n",
      "instance: 0  Aprox\n",
      "instance: 0  level: 5  orientation: 1\n",
      "instance: 0  level: 4  orientation: 2\n",
      "instance: 0  level: 4  orientation: 3\n",
      "instance: 0  level: 3  orientation: 2\n",
      "instance: 1  Aprox\n",
      "instance: 1  level: 5  orientation: 1\n",
      "instance: 1  level: 4  orientation: 2\n",
      "instance: 1  level: 4  orientation: 3\n",
      "instance: 1  level: 3  orientation: 2\n",
      "instance: 2  Aprox\n",
      "instance: 2  level: 5  orientation: 1\n",
      "instance: 2  level: 4  orientation: 2\n",
      "instance: 2  level: 4  orientation: 3\n",
      "instance: 2  level: 3  orientation: 2\n",
      "instance: 3  Aprox\n",
      "instance: 3  level: 5  orientation: 1\n",
      "instance: 3  level: 4  orientation: 2\n",
      "instance: 3  level: 4  orientation: 3\n",
      "instance: 3  level: 3  orientation: 2\n",
      "instance: 4  Aprox\n",
      "instance: 4  level: 5  orientation: 1\n",
      "instance: 4  level: 4  orientation: 2\n",
      "instance: 4  level: 4  orientation: 3\n",
      "instance: 4  level: 3  orientation: 2\n",
      "instance: 5  Aprox\n",
      "instance: 5  level: 5  orientation: 1\n",
      "instance: 5  level: 4  orientation: 2\n",
      "instance: 5  level: 4  orientation: 3\n",
      "instance: 5  level: 3  orientation: 2\n",
      "instance: 6  Aprox\n",
      "instance: 6  level: 5  orientation: 1\n",
      "instance: 6  level: 4  orientation: 2\n",
      "instance: 6  level: 4  orientation: 3\n",
      "instance: 6  level: 3  orientation: 2\n",
      "instance: 7  Aprox\n",
      "instance: 7  level: 5  orientation: 1\n",
      "instance: 7  level: 4  orientation: 2\n",
      "instance: 7  level: 4  orientation: 3\n",
      "instance: 7  level: 3  orientation: 2\n",
      "instance: 8  Aprox\n",
      "instance: 8  level: 5  orientation: 1\n",
      "instance: 8  level: 4  orientation: 2\n",
      "instance: 8  level: 4  orientation: 3\n",
      "instance: 8  level: 3  orientation: 2\n",
      "instance: 9  Aprox\n",
      "instance: 9  level: 5  orientation: 1\n",
      "instance: 9  level: 4  orientation: 2\n",
      "instance: 9  level: 4  orientation: 3\n",
      "instance: 9  level: 3  orientation: 2\n",
      "instance: 10  Aprox\n",
      "instance: 10  level: 5  orientation: 1\n",
      "instance: 10  level: 4  orientation: 2\n",
      "instance: 10  level: 4  orientation: 3\n",
      "instance: 10  level: 3  orientation: 2\n",
      "instance: 11  Aprox\n",
      "instance: 11  level: 5  orientation: 1\n",
      "instance: 11  level: 4  orientation: 2\n",
      "instance: 11  level: 4  orientation: 3\n",
      "instance: 11  level: 3  orientation: 2\n",
      "instance: 12  Aprox\n",
      "instance: 12  level: 5  orientation: 1\n",
      "instance: 12  level: 4  orientation: 2\n",
      "instance: 12  level: 4  orientation: 3\n",
      "instance: 12  level: 3  orientation: 2\n",
      "instance: 13  Aprox\n",
      "instance: 13  level: 5  orientation: 1\n",
      "instance: 13  level: 4  orientation: 2\n",
      "instance: 13  level: 4  orientation: 3\n",
      "instance: 13  level: 3  orientation: 2\n",
      "instance: 14  Aprox\n",
      "instance: 14  level: 5  orientation: 1\n",
      "instance: 14  level: 4  orientation: 2\n",
      "instance: 14  level: 4  orientation: 3\n",
      "instance: 14  level: 3  orientation: 2\n",
      "instance: 15  Aprox\n",
      "instance: 15  level: 5  orientation: 1\n",
      "instance: 15  level: 4  orientation: 2\n",
      "instance: 15  level: 4  orientation: 3\n",
      "instance: 15  level: 3  orientation: 2\n",
      "instance: 16  Aprox\n",
      "instance: 16  level: 5  orientation: 1\n",
      "instance: 16  level: 4  orientation: 2\n",
      "instance: 16  level: 4  orientation: 3\n",
      "instance: 16  level: 3  orientation: 2\n",
      "instance: 17  Aprox\n",
      "instance: 17  level: 5  orientation: 1\n",
      "instance: 17  level: 4  orientation: 2\n",
      "instance: 17  level: 4  orientation: 3\n",
      "instance: 17  level: 3  orientation: 2\n",
      "instance: 18  Aprox\n",
      "instance: 18  level: 5  orientation: 1\n",
      "instance: 18  level: 4  orientation: 2\n",
      "instance: 18  level: 4  orientation: 3\n",
      "instance: 18  level: 3  orientation: 2\n",
      "instance: 19  Aprox\n",
      "instance: 19  level: 5  orientation: 1\n",
      "instance: 19  level: 4  orientation: 2\n",
      "instance: 19  level: 4  orientation: 3\n",
      "instance: 19  level: 3  orientation: 2\n",
      "instance: 20  Aprox\n",
      "instance: 20  level: 5  orientation: 1\n",
      "instance: 20  level: 4  orientation: 2\n",
      "instance: 20  level: 4  orientation: 3\n",
      "instance: 20  level: 3  orientation: 2\n",
      "instance: 21  Aprox\n",
      "instance: 21  level: 5  orientation: 1\n",
      "instance: 21  level: 4  orientation: 2\n",
      "instance: 21  level: 4  orientation: 3\n",
      "instance: 21  level: 3  orientation: 2\n",
      "instance: 22  Aprox\n",
      "instance: 22  level: 5  orientation: 1\n",
      "instance: 22  level: 4  orientation: 2\n",
      "instance: 22  level: 4  orientation: 3\n",
      "instance: 22  level: 3  orientation: 2\n",
      "instance: 23  Aprox\n",
      "instance: 23  level: 5  orientation: 1\n",
      "instance: 23  level: 4  orientation: 2\n",
      "instance: 23  level: 4  orientation: 3\n",
      "instance: 23  level: 3  orientation: 2\n",
      "instance: 24  Aprox\n",
      "instance: 24  level: 5  orientation: 1\n",
      "instance: 24  level: 4  orientation: 2\n",
      "instance: 24  level: 4  orientation: 3\n",
      "instance: 24  level: 3  orientation: 2\n",
      "instance: 25  Aprox\n",
      "instance: 25  level: 5  orientation: 1\n",
      "instance: 25  level: 4  orientation: 2\n",
      "instance: 25  level: 4  orientation: 3\n",
      "instance: 25  level: 3  orientation: 2\n",
      "instance: 26  Aprox\n",
      "instance: 26  level: 5  orientation: 1\n",
      "instance: 26  level: 4  orientation: 2\n",
      "instance: 26  level: 4  orientation: 3\n",
      "instance: 26  level: 3  orientation: 2\n",
      "instance: 27  Aprox\n",
      "instance: 27  level: 5  orientation: 1\n",
      "instance: 27  level: 4  orientation: 2\n",
      "instance: 27  level: 4  orientation: 3\n",
      "instance: 27  level: 3  orientation: 2\n",
      "instance: 28  Aprox\n",
      "instance: 28  level: 5  orientation: 1\n",
      "instance: 28  level: 4  orientation: 2\n",
      "instance: 28  level: 4  orientation: 3\n",
      "instance: 28  level: 3  orientation: 2\n",
      "instance: 29  Aprox\n",
      "instance: 29  level: 5  orientation: 1\n",
      "instance: 29  level: 4  orientation: 2\n",
      "instance: 29  level: 4  orientation: 3\n",
      "instance: 29  level: 3  orientation: 2\n",
      "instance: 30  Aprox\n",
      "instance: 30  level: 5  orientation: 1\n",
      "instance: 30  level: 4  orientation: 2\n",
      "instance: 30  level: 4  orientation: 3\n",
      "instance: 30  level: 3  orientation: 2\n",
      "instance: 31  Aprox\n",
      "instance: 31  level: 5  orientation: 1\n",
      "instance: 31  level: 4  orientation: 2\n",
      "instance: 31  level: 4  orientation: 3\n",
      "instance: 31  level: 3  orientation: 2\n",
      "instance: 32  Aprox\n",
      "instance: 32  level: 5  orientation: 1\n",
      "instance: 32  level: 4  orientation: 2\n",
      "instance: 32  level: 4  orientation: 3\n",
      "instance: 32  level: 3  orientation: 2\n",
      "instance: 33  Aprox\n",
      "instance: 33  level: 5  orientation: 1\n",
      "instance: 33  level: 4  orientation: 2\n",
      "instance: 33  level: 4  orientation: 3\n",
      "instance: 33  level: 3  orientation: 2\n",
      "instance: 34  Aprox\n",
      "instance: 34  level: 5  orientation: 1\n",
      "instance: 34  level: 4  orientation: 2\n",
      "instance: 34  level: 4  orientation: 3\n",
      "instance: 34  level: 3  orientation: 2\n",
      "instance: 35  Aprox\n",
      "instance: 35  level: 5  orientation: 1\n",
      "instance: 35  level: 4  orientation: 2\n",
      "instance: 35  level: 4  orientation: 3\n",
      "instance: 35  level: 3  orientation: 2\n",
      "instance: 36  Aprox\n",
      "instance: 36  level: 5  orientation: 1\n",
      "instance: 36  level: 4  orientation: 2\n",
      "instance: 36  level: 4  orientation: 3\n",
      "instance: 36  level: 3  orientation: 2\n",
      "instance: 37  Aprox\n",
      "instance: 37  level: 5  orientation: 1\n",
      "instance: 37  level: 4  orientation: 2\n",
      "instance: 37  level: 4  orientation: 3\n",
      "instance: 37  level: 3  orientation: 2\n",
      "instance: 38  Aprox\n",
      "instance: 38  level: 5  orientation: 1\n",
      "instance: 38  level: 4  orientation: 2\n",
      "instance: 38  level: 4  orientation: 3\n",
      "instance: 38  level: 3  orientation: 2\n",
      "instance: 39  Aprox\n",
      "instance: 39  level: 5  orientation: 1\n",
      "instance: 39  level: 4  orientation: 2\n",
      "instance: 39  level: 4  orientation: 3\n",
      "instance: 39  level: 3  orientation: 2\n",
      "instance: 40  Aprox\n",
      "instance: 40  level: 5  orientation: 1\n",
      "instance: 40  level: 4  orientation: 2\n",
      "instance: 40  level: 4  orientation: 3\n",
      "instance: 40  level: 3  orientation: 2\n",
      "instance: 41  Aprox\n",
      "instance: 41  level: 5  orientation: 1\n",
      "instance: 41  level: 4  orientation: 2\n",
      "instance: 41  level: 4  orientation: 3\n",
      "instance: 41  level: 3  orientation: 2\n",
      "instance: 42  Aprox\n",
      "instance: 42  level: 5  orientation: 1\n",
      "instance: 42  level: 4  orientation: 2\n",
      "instance: 42  level: 4  orientation: 3\n",
      "instance: 42  level: 3  orientation: 2\n",
      "instance: 43  Aprox\n",
      "instance: 43  level: 5  orientation: 1\n",
      "instance: 43  level: 4  orientation: 2\n",
      "instance: 43  level: 4  orientation: 3\n",
      "instance: 43  level: 3  orientation: 2\n",
      "instance: 44  Aprox\n",
      "instance: 44  level: 5  orientation: 1\n",
      "instance: 44  level: 4  orientation: 2\n",
      "instance: 44  level: 4  orientation: 3\n",
      "instance: 44  level: 3  orientation: 2\n",
      "instance: 45  Aprox\n",
      "instance: 45  level: 5  orientation: 1\n",
      "instance: 45  level: 4  orientation: 2\n",
      "instance: 45  level: 4  orientation: 3\n",
      "instance: 45  level: 3  orientation: 2\n",
      "instance: 46  Aprox\n",
      "instance: 46  level: 5  orientation: 1\n",
      "instance: 46  level: 4  orientation: 2\n",
      "instance: 46  level: 4  orientation: 3\n",
      "instance: 46  level: 3  orientation: 2\n",
      "instance: 47  Aprox\n",
      "instance: 47  level: 5  orientation: 1\n",
      "instance: 47  level: 4  orientation: 2\n",
      "instance: 47  level: 4  orientation: 3\n",
      "instance: 47  level: 3  orientation: 2\n",
      "instance: 48  Aprox\n",
      "instance: 48  level: 5  orientation: 1\n",
      "instance: 48  level: 4  orientation: 2\n",
      "instance: 48  level: 4  orientation: 3\n",
      "instance: 48  level: 3  orientation: 2\n",
      "instance: 49  Aprox\n",
      "instance: 49  level: 5  orientation: 1\n",
      "instance: 49  level: 4  orientation: 2\n",
      "instance: 49  level: 4  orientation: 3\n",
      "instance: 49  level: 3  orientation: 2\n",
      "instance: 50  Aprox\n",
      "instance: 50  level: 5  orientation: 1\n",
      "instance: 50  level: 4  orientation: 2\n",
      "instance: 50  level: 4  orientation: 3\n",
      "instance: 50  level: 3  orientation: 2\n",
      "instance: 51  Aprox\n",
      "instance: 51  level: 5  orientation: 1\n",
      "instance: 51  level: 4  orientation: 2\n",
      "instance: 51  level: 4  orientation: 3\n",
      "instance: 51  level: 3  orientation: 2\n",
      "instance: 52  Aprox\n",
      "instance: 52  level: 5  orientation: 1\n",
      "instance: 52  level: 4  orientation: 2\n",
      "instance: 52  level: 4  orientation: 3\n",
      "instance: 52  level: 3  orientation: 2\n"
     ]
    }
   ],
   "source": [
    "coeff_folder_path = \"D:\\\\Work and uni\\\\University\\\\ML for food authentication\\\\Results_fitting\\\\coefficients\\\\\"\n",
    "dist_params_name=\"dist_paramsSelect wt=db4 levels=5 dist=Normal.mat\"\n",
    "X, Y = prepare_features_for_scikit(\"dist_paramsSelect wt=db4 levels=5 dist=Normal.mat\")\n"
   ]
  },
  {
   "cell_type": "code",
   "execution_count": null,
   "metadata": {},
   "outputs": [],
   "source": [
    "#now load matlab results\n",
    "load_dict = scipy.io.loadmat(\"dist_params wt=db4 levels=5 dist=Normal.mat\")\n",
    "dist_params = load_dict[\"dist_params\"]"
   ]
  },
  {
   "cell_type": "code",
   "execution_count": null,
   "metadata": {},
   "outputs": [],
   "source": [
    "usable = dist_params\n",
    "print(usable.shape)\n",
    "toHist = []\n",
    "def plot_fitted_params(parameters):\n",
    "        continue\n",
    "\n",
    "def hist_of_parameters(parameters):\n",
    "  alpha=0.2\n",
    "\n",
    "  fig,axes = plt.subplots(levels+1,3,figsize=(20,20), constrained_layout=True)\n",
    "  \n",
    "  #Progress\n",
    "  print(getattr(dist,\"name\"), end=\": \")\n",
    "  for m in range(levels+1):\n",
    "    if m==0:\n",
    "      sm.qqplot(coeffs[0], dist=dist, fit=True,\\\n",
    "                line=\"45\", linewidth=0.1, alpha=alpha, marker=\".\", mfc=\"black\", mew=0, ax=axes[levels-m][0])\n",
    "      axes[levels-m][0].set_title(\"Approximation\")\n",
    "      axes[levels-m][0].tick_params(direction=\"in\")\n",
    "      axes[levels-m][1].remove()\n",
    "      axes[levels-m][2].remove()\n",
    "      continue\n",
    "    for i in range(3):\n",
    "      if i==0: title=\"Level \"+str(levels-m+1)+\": Horizontal\"\n",
    "      if i==1: title=\"Level \"+str(levels-m+1)+\": Vertical\"\n",
    "      if i==2: title=\"Level \"+str(levels-m+1)+\": Diagonal\"\n",
    "\n",
    "      sm.qqplot(coeffs[m][i], dist=dist, fit=True,\\\n",
    "                line=\"45\", linewidth=0.1, alpha=alpha, marker=\".\", mfc=\"black\", mew=0, ax=axes[levels-m][i])\n",
    "      axes[levels-m][i].set_title(title)\n",
    "      axes[levels-m][i].tick_params(direction=\"in\")\n",
    "\n",
    "      #Progress\n",
    "      print(levels-m+1,i,sep=\"\", end=\" \")\n",
    "  print(\"\")\n",
    "  \n",
    "  title=\"qqplots wavelet={} levels={} dist={}\".format(wavelet, levels, getattr(dist,\"name\"))\n",
    "  fig.suptitle(title, fontsize=16)\n",
    "  fig.savefig(title)\n",
    "\n",
    "  return"
   ]
  },
  {
   "cell_type": "code",
   "execution_count": 70,
   "metadata": {
    "scrolled": false
   },
   "outputs": [
    {
     "name": "stdout",
     "output_type": "stream",
     "text": [
      "cannot identify image file 'Data\\\\cichorium intubus pollen x 400\\\\Cichorium Intybus (Asteraceae)_1_bak.tif' Cichorium Intybus (Asteraceae)_1_bak.tif\n",
      "cannot identify image file 'Data\\\\cichorium intubus pollen x 400\\\\Cichorium Intybus (Asteraceae)_3_bak.tif' Cichorium Intybus (Asteraceae)_3_bak.tif\n",
      "cannot identify image file 'Data\\\\cichorium intubus pollen x 400\\\\Cichorium Intybus (Asteraceae)_bak.tif' Cichorium Intybus (Asteraceae)_bak.tif\n"
     ]
    },
    {
     "data": {
      "image/png": "[encoded data removed]",
      "text/plain": [
       "<Figure size 720x720 with 2 Axes>"
      ]
     },
     "metadata": {
      "needs_background": "light"
     },
     "output_type": "display_data"
    }
   ],
   "source": [
    "#single Class Plot\n",
    "dist_params_folder_path = \"D:\\\\Work and uni\\\\University\\\\ML for food authentication\\\\Results_fitting\\\\dist_params\\\\\"\n",
    "save_folder_path = \"D:\\\\Work and uni\\\\University\\\\ML for food authentication\\\\Results_fitting\\\\Class Plots\\\\\"\n",
    "\n",
    "dist_params_name=\"dist_params wt=db4 levels=5 dist=Stable.mat\"\n",
    "dist_params_path=os.path.join(dist_params_folder_path, dist_params_name)\n",
    "class_plot_from_distribution_parameters(dist_params_path, save_folder_path)"
   ]
  },
  {
   "cell_type": "code",
   "execution_count": null,
   "metadata": {},
   "outputs": [],
   "source": []
  },
  {
   "cell_type": "code",
   "execution_count": null,
   "metadata": {
    "colab": {
     "base_uri": "https://localhost:8080/",
     "height": 1000
    },
    "id": "Hphn_A1LMFLr",
    "outputId": "84f05682-2a98-4731-c0ac-eb5f19134a64",
    "scrolled": false
   },
   "outputs": [],
   "source": [
    "#qqplots of image 2\n",
    "print(ordered_image_names[7])\n",
    "plt.imshow(data[7][0])\n",
    "qqplots_of_image(data[2][0], \"db12\", 5, stats.norm)"
   ]
  },
  {
   "cell_type": "code",
   "execution_count": null,
   "metadata": {
    "colab": {
     "base_uri": "https://localhost:8080/"
    },
    "id": "LJ8f-6vFiphP",
    "outputId": "2164876d-ecbb-4618-8d47-1f3ac0e1cd2e"
   },
   "outputs": [],
   "source": []
  },
  {
   "cell_type": "code",
   "execution_count": null,
   "metadata": {
    "colab": {
     "base_uri": "https://localhost:8080/",
     "height": 1000
    },
    "id": "OyTQK-VsjhQg",
    "outputId": "93f59206-a8fc-4b3f-aced-46352b26107f"
   },
   "outputs": [],
   "source": []
  },
  {
   "cell_type": "markdown",
   "metadata": {
    "id": "tszNd3E195G-"
   },
   "source": [
    "# Visualisation of wavelet decomposition"
   ]
  },
  {
   "cell_type": "code",
   "execution_count": 1,
   "metadata": {
    "colab": {
     "base_uri": "https://localhost:8080/",
     "height": 1000
    },
    "id": "rPvxZg-TWMMo",
    "outputId": "6dd4ebc7-3485-4a75-aa89-a9ea0fc06085"
   },
   "outputs": [
    {
     "ename": "FileNotFoundError",
     "evalue": "[Errno 2] No such file or directory: '/content/drive/MyDrive/Copy of origanum_bak.tif'",
     "output_type": "error",
     "traceback": [
      "\u001b[1;31m---------------------------------------------------------------------------\u001b[0m",
      "\u001b[1;31mFileNotFoundError\u001b[0m                         Traceback (most recent call last)",
      "\u001b[1;32m<ipython-input-1-f3539c162cf0>\u001b[0m in \u001b[0;36m<module>\u001b[1;34m\u001b[0m\n\u001b[0;32m      8\u001b[0m \u001b[1;33m\u001b[0m\u001b[0m\n\u001b[0;32m      9\u001b[0m \u001b[0mn\u001b[0m\u001b[1;33m=\u001b[0m\u001b[1;36m3\u001b[0m\u001b[1;33m\u001b[0m\u001b[1;33m\u001b[0m\u001b[0m\n\u001b[1;32m---> 10\u001b[1;33m \u001b[0mim\u001b[0m \u001b[1;33m=\u001b[0m \u001b[0mImage\u001b[0m\u001b[1;33m.\u001b[0m\u001b[0mopen\u001b[0m\u001b[1;33m(\u001b[0m\u001b[1;34m\"/content/drive/MyDrive/Copy of origanum_bak.tif\"\u001b[0m\u001b[1;33m)\u001b[0m\u001b[1;33m\u001b[0m\u001b[1;33m\u001b[0m\u001b[0m\n\u001b[0m\u001b[0;32m     11\u001b[0m \u001b[0mplt\u001b[0m\u001b[1;33m.\u001b[0m\u001b[0mimshow\u001b[0m\u001b[1;33m(\u001b[0m\u001b[0mnp\u001b[0m\u001b[1;33m.\u001b[0m\u001b[0masarray\u001b[0m\u001b[1;33m(\u001b[0m\u001b[0mim\u001b[0m\u001b[1;33m)\u001b[0m\u001b[1;33m)\u001b[0m\u001b[1;33m\u001b[0m\u001b[1;33m\u001b[0m\u001b[0m\n\u001b[0;32m     12\u001b[0m \u001b[1;33m\u001b[0m\u001b[0m\n",
      "\u001b[1;32mC:\\ProgramData\\Anaconda3\\lib\\site-packages\\PIL\\Image.py\u001b[0m in \u001b[0;36mopen\u001b[1;34m(fp, mode, formats)\u001b[0m\n\u001b[0;32m   2889\u001b[0m \u001b[1;33m\u001b[0m\u001b[0m\n\u001b[0;32m   2890\u001b[0m     \u001b[1;32mif\u001b[0m \u001b[0mfilename\u001b[0m\u001b[1;33m:\u001b[0m\u001b[1;33m\u001b[0m\u001b[1;33m\u001b[0m\u001b[0m\n\u001b[1;32m-> 2891\u001b[1;33m         \u001b[0mfp\u001b[0m \u001b[1;33m=\u001b[0m \u001b[0mbuiltins\u001b[0m\u001b[1;33m.\u001b[0m\u001b[0mopen\u001b[0m\u001b[1;33m(\u001b[0m\u001b[0mfilename\u001b[0m\u001b[1;33m,\u001b[0m \u001b[1;34m\"rb\"\u001b[0m\u001b[1;33m)\u001b[0m\u001b[1;33m\u001b[0m\u001b[1;33m\u001b[0m\u001b[0m\n\u001b[0m\u001b[0;32m   2892\u001b[0m         \u001b[0mexclusive_fp\u001b[0m \u001b[1;33m=\u001b[0m \u001b[1;32mTrue\u001b[0m\u001b[1;33m\u001b[0m\u001b[1;33m\u001b[0m\u001b[0m\n\u001b[0;32m   2893\u001b[0m \u001b[1;33m\u001b[0m\u001b[0m\n",
      "\u001b[1;31mFileNotFoundError\u001b[0m: [Errno 2] No such file or directory: '/content/drive/MyDrive/Copy of origanum_bak.tif'"
     ]
    }
   ],
   "source": [
    "import pywt\n",
    "import numpy as np\n",
    "import matplotlib.pyplot as plt\n",
    "from PIL import Image\n",
    "import statsmodels.api as sm\n",
    "import scipy.stats as stats\n",
    "\n",
    "\n",
    "n=3\n",
    "im = Image.open(\"/content/drive/MyDrive/Copy of origanum_bak.tif\")\n",
    "plt.imshow(np.asarray(im))\n",
    "plt\n",
    "\n",
    "gray_img = im.convert(\"L\")\n",
    "plt.figure()\n",
    "plt.imshow(np.asarray(gray_img), cmap=plt.get_cmap('gray'))\n",
    "gray_array = np.asarray(gray_img)\n",
    "\n",
    "C = pywt.wavedec2( gray_array , 'db1', level=n)\n",
    "\n",
    "C[0] /= np.abs(C[0]).max()\n",
    "for m in range(n):\n",
    "  if m==0:\n",
    "    continue\n",
    "  for mat in C[m]:\n",
    "    mat /= np.abs(mat).max()\n",
    "\n",
    "arr , slices = pywt.coeffs_to_array(C)\n",
    "\n",
    "plt.figure(figsize=[12,12])\n",
    "plt.imshow(arr, cmap=plt.get_cmap('gray'), vmin=-0.25, vmax=0.75 )\n",
    "plt.savefig(\"hooray.jpeg\")\n",
    "\n",
    "a=[1,2,['name', im]]\n",
    "plt.figure()\n",
    "plt.imshow(np.asarray(a[2][1]))"
   ]
  },
  {
   "cell_type": "code",
   "execution_count": null,
   "metadata": {},
   "outputs": [],
   "source": []
  }
 ],
 "metadata": {
  "colab": {
   "collapsed_sections": [],
   "name": "wavelet decomposition.ipynb",
   "provenance": [],
   "toc_visible": true
  },
  "kernelspec": {
   "display_name": "Python 3",
   "language": "python",
   "name": "python3"
  },
  "language_info": {
   "codemirror_mode": {
    "name": "ipython",
    "version": 3
   },
   "file_extension": ".py",
   "mimetype": "text/x-python",
   "name": "python",
   "nbconvert_exporter": "python",
   "pygments_lexer": "ipython3",
   "version": "3.8.5"
  }
 },
 "nbformat": 4,
 "nbformat_minor": 1
}
