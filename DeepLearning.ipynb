{
  "nbformat": 4,
  "nbformat_minor": 0,
  "metadata": {
    "colab": {
      "name": "DeepLearning.ipynb",
      "provenance": [],
      "collapsed_sections": []
    },
    "kernelspec": {
      "name": "python3",
      "display_name": "Python 3"
    }
  },
  "cells": [
    {
      "cell_type": "markdown",
      "metadata": {
        "id": "VbANzoi9o-YY"
      },
      "source": [
        "# Set-up\n"
      ]
    },
    {
      "cell_type": "code",
      "metadata": {
        "id": "ZyHH6IVA2Dpf"
      },
      "source": [
        "import os\r\n",
        "import numpy as np\r\n",
        "import pandas as pd\r\n",
        "\r\n",
        "from PIL import Image\r\n",
        "import matplotlib as mpl\r\n",
        "import matplotlib.pyplot as plt\r\n",
        "\r\n",
        "import tensorflow as tf\r\n",
        "import tensorflow.keras\r\n"
      ],
      "execution_count": 3,
      "outputs": []
    },
    {
      "cell_type": "markdown",
      "metadata": {
        "id": "FCOf0qek2gKs"
      },
      "source": [
        "# Set-up\n"
      ]
    },
    {
      "cell_type": "code",
      "metadata": {
        "id": "MOyj3FvZqDiT"
      },
      "source": [
        "def get_data_from_Drive(path_to_data_folder):\n",
        "  from google.colab import drive\n",
        "  drive.mount('/content/drive')\n",
        "  return get_data_from_folder(os.path.join(\"/content/drive/MyDrive\", path_to_data_folder))  \n",
        "\n",
        "def get_data_from_folder( path_to_data_folder ):\n",
        "  #Each class must recide in its own folder.\n",
        "  #Returns data as (image as nparray, class)\n",
        "  #gathering classes\n",
        "  class_titles = os.listdir(path_to_data_folder)\n",
        "  classes_list = list( ( enumerate( class_titles ) ) )\n",
        "  ordered_image_names = []\n",
        "  #placing image, class identifier (from classes_list) pairs in a list named data\n",
        "  data = []\n",
        "  number_of_images = 0\n",
        "  errors = 0 \n",
        "  for gyro_class in classes_list:\n",
        "    for image_name in os.listdir( os.path.join( path_to_data_folder, gyro_class[1] ) ):\n",
        "      number_of_images+=1\n",
        "      try:\n",
        "        im = Image.open( os.path.join( path_to_data_folder, gyro_class[1] , image_name)  )\n",
        "        color_image_nparray = np.asarray( im )\n",
        "        data.append( [color_image_nparray, gyro_class[0]] )\n",
        "        ordered_image_names.append(image_name)\n",
        "      except Exception as error :\n",
        "        errors+=1\n",
        "        print( error, image_name)\n",
        "\n",
        "  return data, class_titles, ordered_image_names, ( number_of_images, errors )\n"
      ],
      "execution_count": null,
      "outputs": []
    }
  ]
}